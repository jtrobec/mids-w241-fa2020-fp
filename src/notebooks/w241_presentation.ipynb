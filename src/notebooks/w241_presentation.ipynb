{
 "cells": [
  {
   "cell_type": "code",
   "execution_count": 1,
   "metadata": {},
   "outputs": [],
   "source": [
    "import altair as alt\n",
    "import pandas as pd\n",
    "import numpy as np\n",
    "#get the data\n",
    "from vega_datasets import data"
   ]
  },
  {
   "cell_type": "markdown",
   "metadata": {},
   "source": [
    "[source](https://medium.com/analytics-vidhya/interactive-data-viz-using-altair-873139771fe2) "
   ]
  },
  {
   "cell_type": "code",
   "execution_count": null,
   "metadata": {
    "collapsed": true
   },
   "outputs": [],
   "source": [
    "settle_data = data.seattle_weather()\n",
    "settle_data.head()\n",
    "source.head()"
   ]
  },
  {
   "cell_type": "code",
   "execution_count": null,
   "metadata": {
    "collapsed": true
   },
   "outputs": [],
   "source": [
    "settle_data.weather.unique()"
   ]
  },
  {
   "cell_type": "code",
   "execution_count": null,
   "metadata": {
    "collapsed": true
   },
   "outputs": [],
   "source": [
    "settle_data.date.unique()"
   ]
  },
  {
   "cell_type": "code",
   "execution_count": null,
   "metadata": {
    "collapsed": true
   },
   "outputs": [],
   "source": [
    "## Add brush and click"
   ]
  },
  {
   "cell_type": "code",
   "execution_count": 14,
   "metadata": {},
   "outputs": [],
   "source": [
    "# Defining the color scale for the plot (distribution based on Weather types)\n",
    "scale = alt.Scale(domain=['sun', 'fog', 'drizzle', 'rain', 'snow'],\n",
    "                  range=['#e7ba52', '#a7a7a7', '#aec7e8', '#1f77b4', '#9467bd'])\n",
    "color = alt.Color('weather:N', scale=scale) \n",
    "# N : used to specify nominal data\n",
    "\n",
    "##############################################################################\n",
    "### Add brush and click\n",
    "# We create two selections\n",
    "# - a brush that is active on the top panel\n",
    "# - a multi-click that is active on the bottom panel\n",
    "##############################################################################\n",
    "brush = alt.selection_interval(encodings=['x'])\n",
    "click = alt.selection_multi(encodings=['color'])"
   ]
  },
  {
   "cell_type": "markdown",
   "metadata": {},
   "source": [
    "- `T`: Specify Time data\n",
    "- `Q`: Specify quantitative data\n",
    "- `O` | Specify ordinal data"
   ]
  },
  {
   "cell_type": "markdown",
   "metadata": {},
   "source": [
    "## Read Banana"
   ]
  },
  {
   "cell_type": "code",
   "execution_count": 10,
   "metadata": {},
   "outputs": [
    {
     "data": {
      "text/html": [
       "<div>\n",
       "<style scoped>\n",
       "    .dataframe tbody tr th:only-of-type {\n",
       "        vertical-align: middle;\n",
       "    }\n",
       "\n",
       "    .dataframe tbody tr th {\n",
       "        vertical-align: top;\n",
       "    }\n",
       "\n",
       "    .dataframe thead th {\n",
       "        text-align: right;\n",
       "    }\n",
       "</style>\n",
       "<table border=\"1\" class=\"dataframe\">\n",
       "  <thead>\n",
       "    <tr style=\"text-align: right;\">\n",
       "      <th></th>\n",
       "      <th>Unnamed: 0</th>\n",
       "      <th>y</th>\n",
       "      <th>block</th>\n",
       "      <th>banana_number</th>\n",
       "      <th>treatment</th>\n",
       "      <th>day</th>\n",
       "      <th>humidity</th>\n",
       "      <th>temperature</th>\n",
       "      <th>black_ratio</th>\n",
       "      <th>weight</th>\n",
       "    </tr>\n",
       "  </thead>\n",
       "  <tbody>\n",
       "    <tr>\n",
       "      <th>155</th>\n",
       "      <td>156</td>\n",
       "      <td>0.061001</td>\n",
       "      <td>B</td>\n",
       "      <td>8</td>\n",
       "      <td>control</td>\n",
       "      <td>9</td>\n",
       "      <td>48</td>\n",
       "      <td>70</td>\n",
       "      <td>0.634690</td>\n",
       "      <td>777</td>\n",
       "    </tr>\n",
       "    <tr>\n",
       "      <th>156</th>\n",
       "      <td>157</td>\n",
       "      <td>0.080037</td>\n",
       "      <td>B</td>\n",
       "      <td>1</td>\n",
       "      <td>control</td>\n",
       "      <td>10</td>\n",
       "      <td>46</td>\n",
       "      <td>73</td>\n",
       "      <td>0.653726</td>\n",
       "      <td>130</td>\n",
       "    </tr>\n",
       "    <tr>\n",
       "      <th>157</th>\n",
       "      <td>158</td>\n",
       "      <td>0.080037</td>\n",
       "      <td>B</td>\n",
       "      <td>5</td>\n",
       "      <td>control</td>\n",
       "      <td>10</td>\n",
       "      <td>46</td>\n",
       "      <td>73</td>\n",
       "      <td>0.653726</td>\n",
       "      <td>116</td>\n",
       "    </tr>\n",
       "    <tr>\n",
       "      <th>158</th>\n",
       "      <td>159</td>\n",
       "      <td>0.080037</td>\n",
       "      <td>B</td>\n",
       "      <td>6</td>\n",
       "      <td>control</td>\n",
       "      <td>10</td>\n",
       "      <td>46</td>\n",
       "      <td>73</td>\n",
       "      <td>0.653726</td>\n",
       "      <td>122</td>\n",
       "    </tr>\n",
       "    <tr>\n",
       "      <th>159</th>\n",
       "      <td>160</td>\n",
       "      <td>0.080037</td>\n",
       "      <td>B</td>\n",
       "      <td>8</td>\n",
       "      <td>control</td>\n",
       "      <td>10</td>\n",
       "      <td>46</td>\n",
       "      <td>73</td>\n",
       "      <td>0.653726</td>\n",
       "      <td>124</td>\n",
       "    </tr>\n",
       "  </tbody>\n",
       "</table>\n",
       "</div>"
      ],
      "text/plain": [
       "     Unnamed: 0         y block  banana_number treatment  day  humidity  \\\n",
       "155         156  0.061001     B              8   control    9        48   \n",
       "156         157  0.080037     B              1   control   10        46   \n",
       "157         158  0.080037     B              5   control   10        46   \n",
       "158         159  0.080037     B              6   control   10        46   \n",
       "159         160  0.080037     B              8   control   10        46   \n",
       "\n",
       "     temperature  black_ratio  weight  \n",
       "155           70     0.634690     777  \n",
       "156           73     0.653726     130  \n",
       "157           73     0.653726     116  \n",
       "158           73     0.653726     122  \n",
       "159           73     0.653726     124  "
      ]
     },
     "execution_count": 10,
     "metadata": {},
     "output_type": "execute_result"
    }
   ],
   "source": [
    "# colnames=['block', 'banana_number', 'treatment', 'day', 'humidity', 'temperature', 'black_ratio'] \n",
    "b_data = pd.read_csv(\"db.csv\")\n",
    "b_data.head()\n",
    "b_data.tail()"
   ]
  },
  {
   "cell_type": "markdown",
   "metadata": {},
   "source": [
    "- `T`: Specify Time data\n",
    "- `Q`: Specify quantitative data\n",
    "- `O` | Specify ordinal data"
   ]
  },
  {
   "cell_type": "code",
   "execution_count": 11,
   "metadata": {},
   "outputs": [
    {
     "data": {
      "text/html": [
       "<div>\n",
       "<style scoped>\n",
       "    .dataframe tbody tr th:only-of-type {\n",
       "        vertical-align: middle;\n",
       "    }\n",
       "\n",
       "    .dataframe tbody tr th {\n",
       "        vertical-align: top;\n",
       "    }\n",
       "\n",
       "    .dataframe thead th {\n",
       "        text-align: right;\n",
       "    }\n",
       "</style>\n",
       "<table border=\"1\" class=\"dataframe\">\n",
       "  <thead>\n",
       "    <tr style=\"text-align: right;\">\n",
       "      <th></th>\n",
       "      <th>Unnamed: 0</th>\n",
       "      <th>y</th>\n",
       "      <th>block</th>\n",
       "      <th>banana_number</th>\n",
       "      <th>treatment</th>\n",
       "      <th>day</th>\n",
       "      <th>humidity</th>\n",
       "      <th>temperature</th>\n",
       "      <th>black_ratio</th>\n",
       "      <th>weight</th>\n",
       "    </tr>\n",
       "  </thead>\n",
       "  <tbody>\n",
       "    <tr>\n",
       "      <th>0</th>\n",
       "      <td>1</td>\n",
       "      <td>-0.037323</td>\n",
       "      <td>N</td>\n",
       "      <td>1</td>\n",
       "      <td>control</td>\n",
       "      <td>1</td>\n",
       "      <td>37</td>\n",
       "      <td>72</td>\n",
       "      <td>0.858422</td>\n",
       "      <td>171</td>\n",
       "    </tr>\n",
       "    <tr>\n",
       "      <th>1</th>\n",
       "      <td>2</td>\n",
       "      <td>-0.049106</td>\n",
       "      <td>N</td>\n",
       "      <td>3</td>\n",
       "      <td>treatment</td>\n",
       "      <td>1</td>\n",
       "      <td>37</td>\n",
       "      <td>72</td>\n",
       "      <td>0.782818</td>\n",
       "      <td>172</td>\n",
       "    </tr>\n",
       "    <tr>\n",
       "      <th>2</th>\n",
       "      <td>3</td>\n",
       "      <td>-0.036415</td>\n",
       "      <td>N</td>\n",
       "      <td>7</td>\n",
       "      <td>treatment</td>\n",
       "      <td>1</td>\n",
       "      <td>37</td>\n",
       "      <td>72</td>\n",
       "      <td>0.788474</td>\n",
       "      <td>168</td>\n",
       "    </tr>\n",
       "    <tr>\n",
       "      <th>3</th>\n",
       "      <td>4</td>\n",
       "      <td>-0.037093</td>\n",
       "      <td>N</td>\n",
       "      <td>5</td>\n",
       "      <td>control</td>\n",
       "      <td>1</td>\n",
       "      <td>37</td>\n",
       "      <td>72</td>\n",
       "      <td>0.863295</td>\n",
       "      <td>165</td>\n",
       "    </tr>\n",
       "    <tr>\n",
       "      <th>4</th>\n",
       "      <td>5</td>\n",
       "      <td>-0.055513</td>\n",
       "      <td>N</td>\n",
       "      <td>2</td>\n",
       "      <td>treatment</td>\n",
       "      <td>1</td>\n",
       "      <td>37</td>\n",
       "      <td>72</td>\n",
       "      <td>0.790132</td>\n",
       "      <td>160</td>\n",
       "    </tr>\n",
       "  </tbody>\n",
       "</table>\n",
       "</div>"
      ],
      "text/plain": [
       "   Unnamed: 0         y block  banana_number  treatment  day  humidity  \\\n",
       "0           1 -0.037323     N              1    control    1        37   \n",
       "1           2 -0.049106     N              3  treatment    1        37   \n",
       "2           3 -0.036415     N              7  treatment    1        37   \n",
       "3           4 -0.037093     N              5    control    1        37   \n",
       "4           5 -0.055513     N              2  treatment    1        37   \n",
       "\n",
       "   temperature  black_ratio  weight  \n",
       "0           72     0.858422     171  \n",
       "1           72     0.782818     172  \n",
       "2           72     0.788474     168  \n",
       "3           72     0.863295     165  \n",
       "4           72     0.790132     160  "
      ]
     },
     "execution_count": 11,
     "metadata": {},
     "output_type": "execute_result"
    }
   ],
   "source": [
    "b_data.head()"
   ]
  },
  {
   "cell_type": "code",
   "execution_count": 29,
   "metadata": {},
   "outputs": [
    {
     "data": {
      "text/html": [
       "\n",
       "<div id=\"altair-viz-f9d8d82442954396911c71de0c7c8878\"></div>\n",
       "<script type=\"text/javascript\">\n",
       "  (function(spec, embedOpt){\n",
       "    let outputDiv = document.currentScript.previousElementSibling;\n",
       "    if (outputDiv.id !== \"altair-viz-f9d8d82442954396911c71de0c7c8878\") {\n",
       "      outputDiv = document.getElementById(\"altair-viz-f9d8d82442954396911c71de0c7c8878\");\n",
       "    }\n",
       "    const paths = {\n",
       "      \"vega\": \"https://cdn.jsdelivr.net/npm//vega@5?noext\",\n",
       "      \"vega-lib\": \"https://cdn.jsdelivr.net/npm//vega-lib?noext\",\n",
       "      \"vega-lite\": \"https://cdn.jsdelivr.net/npm//vega-lite@4.8.1?noext\",\n",
       "      \"vega-embed\": \"https://cdn.jsdelivr.net/npm//vega-embed@6?noext\",\n",
       "    };\n",
       "\n",
       "    function loadScript(lib) {\n",
       "      return new Promise(function(resolve, reject) {\n",
       "        var s = document.createElement('script');\n",
       "        s.src = paths[lib];\n",
       "        s.async = true;\n",
       "        s.onload = () => resolve(paths[lib]);\n",
       "        s.onerror = () => reject(`Error loading script: ${paths[lib]}`);\n",
       "        document.getElementsByTagName(\"head\")[0].appendChild(s);\n",
       "      });\n",
       "    }\n",
       "\n",
       "    function showError(err) {\n",
       "      outputDiv.innerHTML = `<div class=\"error\" style=\"color:red;\">${err}</div>`;\n",
       "      throw err;\n",
       "    }\n",
       "\n",
       "    function displayChart(vegaEmbed) {\n",
       "      vegaEmbed(outputDiv, spec, embedOpt)\n",
       "        .catch(err => showError(`Javascript Error: ${err.message}<br>This usually means there's a typo in your chart specification. See the javascript console for the full traceback.`));\n",
       "    }\n",
       "\n",
       "    if(typeof define === \"function\" && define.amd) {\n",
       "      requirejs.config({paths});\n",
       "      require([\"vega-embed\"], displayChart, err => showError(`Error loading script: ${err.message}`));\n",
       "    } else if (typeof vegaEmbed === \"function\") {\n",
       "      displayChart(vegaEmbed);\n",
       "    } else {\n",
       "      loadScript(\"vega\")\n",
       "        .then(() => loadScript(\"vega-lite\"))\n",
       "        .then(() => loadScript(\"vega-embed\"))\n",
       "        .catch(showError)\n",
       "        .then(() => displayChart(vegaEmbed));\n",
       "    }\n",
       "  })({\"config\": {\"view\": {\"continuousWidth\": 400, \"continuousHeight\": 300}}, \"hconcat\": [{\"mark\": \"circle\", \"encoding\": {\"color\": {\"condition\": {\"type\": \"nominal\", \"field\": \"treatment\", \"selection\": \"selector020\"}, \"value\": \"lightgray\"}, \"x\": {\"type\": \"quantitative\", \"field\": \"day\", \"title\": \"Date\"}, \"y\": {\"type\": \"quantitative\", \"field\": \"y\", \"scale\": {\"domain\": [-0.1, 0.15]}, \"title\": \"Normalized changes in HSV\"}}, \"selection\": {\"selector020\": {\"type\": \"interval\"}}, \"transform\": [{\"filter\": {\"selection\": \"selector005\"}}]}, {\"mark\": \"circle\", \"encoding\": {\"color\": {\"condition\": {\"type\": \"nominal\", \"field\": \"treatment\", \"legend\": {\"orient\": \"top\"}, \"selection\": \"selector020\"}, \"value\": \"lightgray\"}, \"x\": {\"type\": \"quantitative\", \"field\": \"humidity\", \"scale\": {\"domain\": [30, 60]}, \"title\": \"Date\"}, \"y\": {\"type\": \"quantitative\", \"field\": \"temperature\", \"scale\": {\"domain\": [65, 90]}, \"title\": \"Maximum Daily Temperature (C)\"}}, \"selection\": {\"selector005\": {\"type\": \"multi\", \"encodings\": [\"color\"]}}, \"transform\": [{\"filter\": {\"selection\": \"selector020\"}}]}], \"data\": {\"name\": \"data-415ecdb58ee889fd889d4c188c7c5ba2\"}, \"$schema\": \"https://vega.github.io/schema/vega-lite/v4.8.1.json\", \"datasets\": {\"data-415ecdb58ee889fd889d4c188c7c5ba2\": [{\"Unnamed: 0\": 1, \"y\": -0.0373228814515459, \"block\": \"N\", \"banana_number\": 1, \"treatment\": \"control\", \"day\": 1, \"humidity\": 37, \"temperature\": 72, \"black_ratio\": 0.8584217476978481, \"weight\": 171}, {\"Unnamed: 0\": 2, \"y\": -0.0491061110182343, \"block\": \"N\", \"banana_number\": 3, \"treatment\": \"treatment\", \"day\": 1, \"humidity\": 37, \"temperature\": 72, \"black_ratio\": 0.7828182157346291, \"weight\": 172}, {\"Unnamed: 0\": 3, \"y\": -0.036414626501059, \"block\": \"N\", \"banana_number\": 7, \"treatment\": \"treatment\", \"day\": 1, \"humidity\": 37, \"temperature\": 72, \"black_ratio\": 0.7884743097634721, \"weight\": 168}, {\"Unnamed: 0\": 4, \"y\": -0.0370925893334224, \"block\": \"N\", \"banana_number\": 5, \"treatment\": \"control\", \"day\": 1, \"humidity\": 37, \"temperature\": 72, \"black_ratio\": 0.8632945680846079, \"weight\": 165}, {\"Unnamed: 0\": 5, \"y\": -0.0555125433819952, \"block\": \"N\", \"banana_number\": 2, \"treatment\": \"treatment\", \"day\": 1, \"humidity\": 37, \"temperature\": 72, \"black_ratio\": 0.790132400188266, \"weight\": 160}, {\"Unnamed: 0\": 6, \"y\": -0.0454652116570219, \"block\": \"N\", \"banana_number\": 4, \"treatment\": \"treatment\", \"day\": 1, \"humidity\": 37, \"temperature\": 72, \"black_ratio\": 0.7971368279807521, \"weight\": 162}, {\"Unnamed: 0\": 7, \"y\": -0.0323400997357653, \"block\": \"N\", \"banana_number\": 6, \"treatment\": \"control\", \"day\": 1, \"humidity\": 37, \"temperature\": 72, \"black_ratio\": 0.8700531204465121, \"weight\": 162}, {\"Unnamed: 0\": 8, \"y\": -0.0294214024221557, \"block\": \"N\", \"banana_number\": 8, \"treatment\": \"control\", \"day\": 1, \"humidity\": 37, \"temperature\": 72, \"black_ratio\": 0.8584168361599579, \"weight\": 175}, {\"Unnamed: 0\": 9, \"y\": -0.0399490963080695, \"block\": \"N\", \"banana_number\": 3, \"treatment\": \"treatment\", \"day\": 2, \"humidity\": 40, \"temperature\": 72, \"black_ratio\": 0.791975230444794, \"weight\": 777}, {\"Unnamed: 0\": 10, \"y\": -0.0270710706532802, \"block\": \"N\", \"banana_number\": 1, \"treatment\": \"control\", \"day\": 2, \"humidity\": 40, \"temperature\": 72, \"black_ratio\": 0.868673558496114, \"weight\": 777}, {\"Unnamed: 0\": 11, \"y\": -0.0257185443873341, \"block\": \"N\", \"banana_number\": 5, \"treatment\": \"control\", \"day\": 2, \"humidity\": 40, \"temperature\": 72, \"black_ratio\": 0.8746686130306959, \"weight\": 777}, {\"Unnamed: 0\": 12, \"y\": -0.0347593696680423, \"block\": \"N\", \"banana_number\": 7, \"treatment\": \"treatment\", \"day\": 2, \"humidity\": 40, \"temperature\": 72, \"black_ratio\": 0.7901295665964889, \"weight\": 777}, {\"Unnamed: 0\": 13, \"y\": -0.0513732485703698, \"block\": \"N\", \"banana_number\": 2, \"treatment\": \"treatment\", \"day\": 2, \"humidity\": 40, \"temperature\": 72, \"black_ratio\": 0.7942716949998909, \"weight\": 777}, {\"Unnamed: 0\": 14, \"y\": -0.027086442709047996, \"block\": \"N\", \"banana_number\": 6, \"treatment\": \"control\", \"day\": 2, \"humidity\": 40, \"temperature\": 72, \"black_ratio\": 0.875306777473229, \"weight\": 777}, {\"Unnamed: 0\": 15, \"y\": -0.0421534345397581, \"block\": \"N\", \"banana_number\": 4, \"treatment\": \"treatment\", \"day\": 2, \"humidity\": 40, \"temperature\": 72, \"black_ratio\": 0.800448605098016, \"weight\": 777}, {\"Unnamed: 0\": 16, \"y\": -0.0285219187252107, \"block\": \"N\", \"banana_number\": 8, \"treatment\": \"control\", \"day\": 2, \"humidity\": 40, \"temperature\": 72, \"black_ratio\": 0.8593163198569029, \"weight\": 777}, {\"Unnamed: 0\": 17, \"y\": -0.0441399778481742, \"block\": \"N\", \"banana_number\": 3, \"treatment\": \"treatment\", \"day\": 3, \"humidity\": 36, \"temperature\": 73, \"black_ratio\": 0.7877843489046891, \"weight\": 777}, {\"Unnamed: 0\": 18, \"y\": -0.0279237366072128, \"block\": \"N\", \"banana_number\": 1, \"treatment\": \"control\", \"day\": 3, \"humidity\": 36, \"temperature\": 73, \"black_ratio\": 0.8678208925421809, \"weight\": 777}, {\"Unnamed: 0\": 19, \"y\": -0.0391039619651463, \"block\": \"N\", \"banana_number\": 5, \"treatment\": \"control\", \"day\": 3, \"humidity\": 36, \"temperature\": 73, \"black_ratio\": 0.861283195452884, \"weight\": 777}, {\"Unnamed: 0\": 20, \"y\": -0.0351008352954376, \"block\": \"N\", \"banana_number\": 7, \"treatment\": \"treatment\", \"day\": 3, \"humidity\": 36, \"temperature\": 73, \"black_ratio\": 0.789788100969093, \"weight\": 777}, {\"Unnamed: 0\": 21, \"y\": -0.0467562211486403, \"block\": \"N\", \"banana_number\": 2, \"treatment\": \"treatment\", \"day\": 3, \"humidity\": 36, \"temperature\": 73, \"black_ratio\": 0.7988887224216209, \"weight\": 777}, {\"Unnamed: 0\": 22, \"y\": -0.0265351015921058, \"block\": \"N\", \"banana_number\": 6, \"treatment\": \"control\", \"day\": 3, \"humidity\": 36, \"temperature\": 73, \"black_ratio\": 0.8758581185901709, \"weight\": 777}, {\"Unnamed: 0\": 23, \"y\": -0.041214490762539004, \"block\": \"N\", \"banana_number\": 4, \"treatment\": \"treatment\", \"day\": 3, \"humidity\": 36, \"temperature\": 73, \"black_ratio\": 0.801387548875235, \"weight\": 777}, {\"Unnamed: 0\": 24, \"y\": -0.0287833075839822, \"block\": \"N\", \"banana_number\": 8, \"treatment\": \"control\", \"day\": 3, \"humidity\": 36, \"temperature\": 73, \"black_ratio\": 0.8590549309981321, \"weight\": 777}, {\"Unnamed: 0\": 25, \"y\": -0.0292434891230187, \"block\": \"N\", \"banana_number\": 5, \"treatment\": \"control\", \"day\": 4, \"humidity\": 47, \"temperature\": 72, \"black_ratio\": 0.8711436682950121, \"weight\": 777}, {\"Unnamed: 0\": 26, \"y\": -0.0335357271361174, \"block\": \"N\", \"banana_number\": 7, \"treatment\": \"treatment\", \"day\": 4, \"humidity\": 47, \"temperature\": 72, \"black_ratio\": 0.7913532091284129, \"weight\": 777}, {\"Unnamed: 0\": 27, \"y\": -0.0338646597778403, \"block\": \"N\", \"banana_number\": 3, \"treatment\": \"treatment\", \"day\": 4, \"humidity\": 47, \"temperature\": 72, \"black_ratio\": 0.798059666975023, \"weight\": 777}, {\"Unnamed: 0\": 28, \"y\": -0.0218263098873788, \"block\": \"N\", \"banana_number\": 1, \"treatment\": \"control\", \"day\": 4, \"humidity\": 47, \"temperature\": 72, \"black_ratio\": 0.873918319262015, \"weight\": 777}, {\"Unnamed: 0\": 29, \"y\": -0.0219931931420038, \"block\": \"N\", \"banana_number\": 6, \"treatment\": \"control\", \"day\": 4, \"humidity\": 47, \"temperature\": 72, \"black_ratio\": 0.880400027040273, \"weight\": 777}, {\"Unnamed: 0\": 30, \"y\": -0.0402345898803331, \"block\": \"N\", \"banana_number\": 4, \"treatment\": \"treatment\", \"day\": 4, \"humidity\": 47, \"temperature\": 72, \"black_ratio\": 0.802367449757441, \"weight\": 777}, {\"Unnamed: 0\": 31, \"y\": -0.041099429136606004, \"block\": \"N\", \"banana_number\": 2, \"treatment\": \"treatment\", \"day\": 4, \"humidity\": 47, \"temperature\": 72, \"black_ratio\": 0.804545514433655, \"weight\": 777}, {\"Unnamed: 0\": 32, \"y\": -0.0138931212719089, \"block\": \"N\", \"banana_number\": 8, \"treatment\": \"control\", \"day\": 4, \"humidity\": 47, \"temperature\": 72, \"black_ratio\": 0.873945117310205, \"weight\": 777}, {\"Unnamed: 0\": 33, \"y\": -0.0208512961376169, \"block\": \"N\", \"banana_number\": 5, \"treatment\": \"control\", \"day\": 5, \"humidity\": 47, \"temperature\": 72, \"black_ratio\": 0.879535861280414, \"weight\": 777}, {\"Unnamed: 0\": 34, \"y\": -0.0309651300793146, \"block\": \"N\", \"banana_number\": 7, \"treatment\": \"treatment\", \"day\": 5, \"humidity\": 47, \"temperature\": 72, \"black_ratio\": 0.793923806185216, \"weight\": 777}, {\"Unnamed: 0\": 35, \"y\": -0.0371386934602387, \"block\": \"N\", \"banana_number\": 3, \"treatment\": \"treatment\", \"day\": 5, \"humidity\": 47, \"temperature\": 72, \"black_ratio\": 0.794785633292625, \"weight\": 777}, {\"Unnamed: 0\": 36, \"y\": -0.0130810665832656, \"block\": \"N\", \"banana_number\": 1, \"treatment\": \"control\", \"day\": 5, \"humidity\": 47, \"temperature\": 72, \"black_ratio\": 0.8826635625661279, \"weight\": 777}, {\"Unnamed: 0\": 37, \"y\": -0.0192927971456732, \"block\": \"N\", \"banana_number\": 6, \"treatment\": \"control\", \"day\": 5, \"humidity\": 47, \"temperature\": 72, \"black_ratio\": 0.8831004230366041, \"weight\": 777}, {\"Unnamed: 0\": 38, \"y\": -0.0450639564809771, \"block\": \"N\", \"banana_number\": 4, \"treatment\": \"treatment\", \"day\": 5, \"humidity\": 47, \"temperature\": 72, \"black_ratio\": 0.797538083156797, \"weight\": 777}, {\"Unnamed: 0\": 39, \"y\": -0.030343767107698996, \"block\": \"N\", \"banana_number\": 2, \"treatment\": \"treatment\", \"day\": 5, \"humidity\": 47, \"temperature\": 72, \"black_ratio\": 0.8153011764625621, \"weight\": 777}, {\"Unnamed: 0\": 40, \"y\": -0.0226819818885283, \"block\": \"N\", \"banana_number\": 8, \"treatment\": \"control\", \"day\": 5, \"humidity\": 47, \"temperature\": 72, \"black_ratio\": 0.865156256693586, \"weight\": 777}, {\"Unnamed: 0\": 41, \"y\": -0.0193840814728733, \"block\": \"N\", \"banana_number\": 7, \"treatment\": \"treatment\", \"day\": 6, \"humidity\": 42, \"temperature\": 72, \"black_ratio\": 0.8055048547916579, \"weight\": 777}, {\"Unnamed: 0\": 42, \"y\": -0.017385861339536, \"block\": \"N\", \"banana_number\": 5, \"treatment\": \"control\", \"day\": 6, \"humidity\": 42, \"temperature\": 72, \"black_ratio\": 0.883001296078495, \"weight\": 777}, {\"Unnamed: 0\": 43, \"y\": -0.0089031621088943, \"block\": \"N\", \"banana_number\": 1, \"treatment\": \"control\", \"day\": 6, \"humidity\": 42, \"temperature\": 72, \"black_ratio\": 0.8868414670405, \"weight\": 777}, {\"Unnamed: 0\": 44, \"y\": -0.0350976390776154, \"block\": \"N\", \"banana_number\": 3, \"treatment\": \"treatment\", \"day\": 6, \"humidity\": 42, \"temperature\": 72, \"black_ratio\": 0.7968266876752479, \"weight\": 777}, {\"Unnamed: 0\": 45, \"y\": -0.0224668011072136, \"block\": \"N\", \"banana_number\": 4, \"treatment\": \"treatment\", \"day\": 6, \"humidity\": 42, \"temperature\": 72, \"black_ratio\": 0.82013523853056, \"weight\": 777}, {\"Unnamed: 0\": 46, \"y\": -0.0181006067321063, \"block\": \"N\", \"banana_number\": 6, \"treatment\": \"control\", \"day\": 6, \"humidity\": 42, \"temperature\": 72, \"black_ratio\": 0.8842926134501709, \"weight\": 777}, {\"Unnamed: 0\": 47, \"y\": -0.012777198565504, \"block\": \"N\", \"banana_number\": 2, \"treatment\": \"treatment\", \"day\": 6, \"humidity\": 42, \"temperature\": 72, \"black_ratio\": 0.832867745004757, \"weight\": 777}, {\"Unnamed: 0\": 48, \"y\": -0.0116891472308714, \"block\": \"N\", \"banana_number\": 8, \"treatment\": \"control\", \"day\": 6, \"humidity\": 42, \"temperature\": 72, \"black_ratio\": 0.876149091351243, \"weight\": 777}, {\"Unnamed: 0\": 49, \"y\": -0.0114723566966726, \"block\": \"N\", \"banana_number\": 7, \"treatment\": \"treatment\", \"day\": 7, \"humidity\": 37, \"temperature\": 72, \"black_ratio\": 0.813416579567858, \"weight\": 777}, {\"Unnamed: 0\": 50, \"y\": 0.0135847960783445, \"block\": \"N\", \"banana_number\": 5, \"treatment\": \"control\", \"day\": 7, \"humidity\": 37, \"temperature\": 72, \"black_ratio\": 0.913971953496375, \"weight\": 777}, {\"Unnamed: 0\": 51, \"y\": 0.00291131963495372, \"block\": \"N\", \"banana_number\": 1, \"treatment\": \"control\", \"day\": 7, \"humidity\": 37, \"temperature\": 72, \"black_ratio\": 0.8986559487843481, \"weight\": 777}, {\"Unnamed: 0\": 52, \"y\": 0.0053226439433100604, \"block\": \"N\", \"banana_number\": 3, \"treatment\": \"treatment\", \"day\": 7, \"humidity\": 37, \"temperature\": 72, \"black_ratio\": 0.837246970696173, \"weight\": 777}, {\"Unnamed: 0\": 53, \"y\": 0.0166434113887816, \"block\": \"N\", \"banana_number\": 4, \"treatment\": \"treatment\", \"day\": 7, \"humidity\": 37, \"temperature\": 72, \"black_ratio\": 0.859245451026555, \"weight\": 777}, {\"Unnamed: 0\": 54, \"y\": 0.00995801859608225, \"block\": \"N\", \"banana_number\": 6, \"treatment\": \"control\", \"day\": 7, \"humidity\": 37, \"temperature\": 72, \"black_ratio\": 0.912351238778359, \"weight\": 777}, {\"Unnamed: 0\": 55, \"y\": 0.0174779263951439, \"block\": \"N\", \"banana_number\": 2, \"treatment\": \"treatment\", \"day\": 7, \"humidity\": 37, \"temperature\": 72, \"black_ratio\": 0.863122869965405, \"weight\": 777}, {\"Unnamed: 0\": 56, \"y\": -0.00219562119300654, \"block\": \"N\", \"banana_number\": 8, \"treatment\": \"control\", \"day\": 7, \"humidity\": 37, \"temperature\": 72, \"black_ratio\": 0.8856426173891071, \"weight\": 777}, {\"Unnamed: 0\": 57, \"y\": 0.0251328196292773, \"block\": \"N\", \"banana_number\": 8, \"treatment\": \"control\", \"day\": 8, \"humidity\": 32, \"temperature\": 72, \"black_ratio\": 0.912971058211391, \"weight\": 777}, {\"Unnamed: 0\": 58, \"y\": 0.05103357932431401, \"block\": \"N\", \"banana_number\": 2, \"treatment\": \"treatment\", \"day\": 8, \"humidity\": 32, \"temperature\": 72, \"black_ratio\": 0.896678522894575, \"weight\": 777}, {\"Unnamed: 0\": 59, \"y\": 0.0522619927014347, \"block\": \"N\", \"banana_number\": 4, \"treatment\": \"treatment\", \"day\": 8, \"humidity\": 32, \"temperature\": 72, \"black_ratio\": 0.8948640323392092, \"weight\": 777}, {\"Unnamed: 0\": 60, \"y\": 0.0291764515087609, \"block\": \"N\", \"banana_number\": 6, \"treatment\": \"control\", \"day\": 8, \"humidity\": 32, \"temperature\": 72, \"black_ratio\": 0.931569671691038, \"weight\": 777}, {\"Unnamed: 0\": 61, \"y\": 0.028461675494867, \"block\": \"N\", \"banana_number\": 1, \"treatment\": \"control\", \"day\": 8, \"humidity\": 32, \"temperature\": 72, \"black_ratio\": 0.924206304644261, \"weight\": 777}, {\"Unnamed: 0\": 62, \"y\": 0.0475753461468803, \"block\": \"N\", \"banana_number\": 3, \"treatment\": \"treatment\", \"day\": 8, \"humidity\": 32, \"temperature\": 72, \"black_ratio\": 0.8794996728997441, \"weight\": 777}, {\"Unnamed: 0\": 63, \"y\": 0.0491635981308928, \"block\": \"N\", \"banana_number\": 7, \"treatment\": \"treatment\", \"day\": 8, \"humidity\": 32, \"temperature\": 72, \"black_ratio\": 0.8740525343954241, \"weight\": 777}, {\"Unnamed: 0\": 64, \"y\": 0.0417763368348431, \"block\": \"N\", \"banana_number\": 5, \"treatment\": \"control\", \"day\": 8, \"humidity\": 32, \"temperature\": 72, \"black_ratio\": 0.9421634942528739, \"weight\": 777}, {\"Unnamed: 0\": 65, \"y\": 0.0498831013486182, \"block\": \"N\", \"banana_number\": 8, \"treatment\": \"control\", \"day\": 9, \"humidity\": 38, \"temperature\": 72, \"black_ratio\": 0.9377213399307321, \"weight\": 777}, {\"Unnamed: 0\": 66, \"y\": 0.0809751275022506, \"block\": \"N\", \"banana_number\": 2, \"treatment\": \"treatment\", \"day\": 9, \"humidity\": 38, \"temperature\": 72, \"black_ratio\": 0.9266200710725121, \"weight\": 777}, {\"Unnamed: 0\": 67, \"y\": 0.0755360838308221, \"block\": \"N\", \"banana_number\": 4, \"treatment\": \"treatment\", \"day\": 9, \"humidity\": 38, \"temperature\": 72, \"black_ratio\": 0.9181381234685959, \"weight\": 777}, {\"Unnamed: 0\": 68, \"y\": 0.0458927984703533, \"block\": \"N\", \"banana_number\": 6, \"treatment\": \"control\", \"day\": 9, \"humidity\": 38, \"temperature\": 72, \"black_ratio\": 0.94828601865263, \"weight\": 777}, {\"Unnamed: 0\": 69, \"y\": 0.0472075057139775, \"block\": \"N\", \"banana_number\": 1, \"treatment\": \"control\", \"day\": 9, \"humidity\": 38, \"temperature\": 72, \"black_ratio\": 0.9429521348633709, \"weight\": 777}, {\"Unnamed: 0\": 70, \"y\": 0.0826673930538588, \"block\": \"N\", \"banana_number\": 3, \"treatment\": \"treatment\", \"day\": 9, \"humidity\": 38, \"temperature\": 72, \"black_ratio\": 0.9145917198067222, \"weight\": 777}, {\"Unnamed: 0\": 71, \"y\": 0.0712673139708084, \"block\": \"N\", \"banana_number\": 7, \"treatment\": \"treatment\", \"day\": 9, \"humidity\": 38, \"temperature\": 72, \"black_ratio\": 0.8961562502353391, \"weight\": 777}, {\"Unnamed: 0\": 72, \"y\": 0.0515599303270087, \"block\": \"N\", \"banana_number\": 5, \"treatment\": \"control\", \"day\": 9, \"humidity\": 38, \"temperature\": 72, \"black_ratio\": 0.951947087745039, \"weight\": 777}, {\"Unnamed: 0\": 73, \"y\": 0.0603209724815056, \"block\": \"N\", \"banana_number\": 6, \"treatment\": \"control\", \"day\": 10, \"humidity\": 42, \"temperature\": 72, \"black_ratio\": 0.9627141926637819, \"weight\": 129}, {\"Unnamed: 0\": 74, \"y\": 0.0621705793377679, \"block\": \"N\", \"banana_number\": 8, \"treatment\": \"control\", \"day\": 10, \"humidity\": 42, \"temperature\": 72, \"black_ratio\": 0.9500088179198821, \"weight\": 141}, {\"Unnamed: 0\": 75, \"y\": 0.0921569965068044, \"block\": \"N\", \"banana_number\": 4, \"treatment\": \"treatment\", \"day\": 10, \"humidity\": 42, \"temperature\": 72, \"black_ratio\": 0.934759036144578, \"weight\": 131}, {\"Unnamed: 0\": 76, \"y\": 0.08837577468910601, \"block\": \"N\", \"banana_number\": 2, \"treatment\": \"treatment\", \"day\": 10, \"humidity\": 42, \"temperature\": 72, \"black_ratio\": 0.934020718259367, \"weight\": 128}, {\"Unnamed: 0\": 77, \"y\": 0.0812012147478159, \"block\": \"N\", \"banana_number\": 7, \"treatment\": \"treatment\", \"day\": 10, \"humidity\": 42, \"temperature\": 72, \"black_ratio\": 0.906090151012347, \"weight\": 134}, {\"Unnamed: 0\": 78, \"y\": 0.0624746790458783, \"block\": \"N\", \"banana_number\": 5, \"treatment\": \"control\", \"day\": 10, \"humidity\": 42, \"temperature\": 72, \"black_ratio\": 0.962861836463909, \"weight\": 133}, {\"Unnamed: 0\": 79, \"y\": 0.0575477264477789, \"block\": \"N\", \"banana_number\": 1, \"treatment\": \"control\", \"day\": 10, \"humidity\": 42, \"temperature\": 72, \"black_ratio\": 0.953292355597173, \"weight\": 136}, {\"Unnamed: 0\": 80, \"y\": 0.103730794346123, \"block\": \"N\", \"banana_number\": 3, \"treatment\": \"treatment\", \"day\": 10, \"humidity\": 42, \"temperature\": 72, \"black_ratio\": 0.935655121098987, \"weight\": 139}, {\"Unnamed: 0\": 81, \"y\": -0.0301604770959309, \"block\": \"B\", \"banana_number\": 3, \"treatment\": \"treatment\", \"day\": 1, \"humidity\": 43, \"temperature\": 73, \"black_ratio\": 0.629978442958974, \"weight\": 165}, {\"Unnamed: 0\": 82, \"y\": -0.0323908402095406, \"block\": \"B\", \"banana_number\": 7, \"treatment\": \"treatment\", \"day\": 1, \"humidity\": 43, \"temperature\": 73, \"black_ratio\": 0.737438045241245, \"weight\": 157}, {\"Unnamed: 0\": 83, \"y\": -0.00653067457692946, \"block\": \"B\", \"banana_number\": 2, \"treatment\": \"treatment\", \"day\": 1, \"humidity\": 43, \"temperature\": 73, \"black_ratio\": 0.7799801488882591, \"weight\": 171}, {\"Unnamed: 0\": 84, \"y\": -0.0220506204989712, \"block\": \"B\", \"banana_number\": 4, \"treatment\": \"treatment\", \"day\": 1, \"humidity\": 43, \"temperature\": 73, \"black_ratio\": 0.7640404541446211, \"weight\": 164}, {\"Unnamed: 0\": 85, \"y\": -0.0265395601720627, \"block\": \"B\", \"banana_number\": 3, \"treatment\": \"treatment\", \"day\": 2, \"humidity\": 45, \"temperature\": 77, \"black_ratio\": 0.633599359882842, \"weight\": 777}, {\"Unnamed: 0\": 86, \"y\": -0.0309981293829261, \"block\": \"B\", \"banana_number\": 7, \"treatment\": \"treatment\", \"day\": 2, \"humidity\": 45, \"temperature\": 77, \"black_ratio\": 0.738830756067859, \"weight\": 777}, {\"Unnamed: 0\": 87, \"y\": -0.022302236866968996, \"block\": \"B\", \"banana_number\": 2, \"treatment\": \"treatment\", \"day\": 2, \"humidity\": 45, \"temperature\": 77, \"black_ratio\": 0.76420858659822, \"weight\": 777}, {\"Unnamed: 0\": 88, \"y\": -0.00539591174046783, \"block\": \"B\", \"banana_number\": 4, \"treatment\": \"treatment\", \"day\": 2, \"humidity\": 45, \"temperature\": 77, \"black_ratio\": 0.7806951629031241, \"weight\": 777}, {\"Unnamed: 0\": 89, \"y\": -0.0258759700832494, \"block\": \"B\", \"banana_number\": 3, \"treatment\": \"treatment\", \"day\": 3, \"humidity\": 50, \"temperature\": 79, \"black_ratio\": 0.634262949971655, \"weight\": 777}, {\"Unnamed: 0\": 90, \"y\": -0.0211366278764593, \"block\": \"B\", \"banana_number\": 7, \"treatment\": \"treatment\", \"day\": 3, \"humidity\": 50, \"temperature\": 79, \"black_ratio\": 0.748692257574326, \"weight\": 777}, {\"Unnamed: 0\": 91, \"y\": -0.0068103485607206, \"block\": \"B\", \"banana_number\": 2, \"treatment\": \"treatment\", \"day\": 3, \"humidity\": 50, \"temperature\": 79, \"black_ratio\": 0.779700474904468, \"weight\": 777}, {\"Unnamed: 0\": 92, \"y\": -0.0027335958496053103, \"block\": \"B\", \"banana_number\": 4, \"treatment\": \"treatment\", \"day\": 3, \"humidity\": 50, \"temperature\": 79, \"black_ratio\": 0.783357478793987, \"weight\": 777}, {\"Unnamed: 0\": 93, \"y\": -0.00151507844650212, \"block\": \"B\", \"banana_number\": 7, \"treatment\": \"treatment\", \"day\": 4, \"humidity\": 46, \"temperature\": 73, \"black_ratio\": 0.7683138070042829, \"weight\": 777}, {\"Unnamed: 0\": 94, \"y\": -0.0354933104607584, \"block\": \"B\", \"banana_number\": 3, \"treatment\": \"treatment\", \"day\": 4, \"humidity\": 46, \"temperature\": 73, \"black_ratio\": 0.6246456095941461, \"weight\": 777}, {\"Unnamed: 0\": 95, \"y\": -0.00274762055671041, \"block\": \"B\", \"banana_number\": 4, \"treatment\": \"treatment\", \"day\": 4, \"humidity\": 46, \"temperature\": 73, \"black_ratio\": 0.783343454086882, \"weight\": 777}, {\"Unnamed: 0\": 96, \"y\": -0.00626641956937091, \"block\": \"B\", \"banana_number\": 2, \"treatment\": \"treatment\", \"day\": 4, \"humidity\": 46, \"temperature\": 73, \"black_ratio\": 0.780244403895818, \"weight\": 777}, {\"Unnamed: 0\": 97, \"y\": -0.0014069815812127698, \"block\": \"B\", \"banana_number\": 7, \"treatment\": \"treatment\", \"day\": 5, \"humidity\": 48, \"temperature\": 73, \"black_ratio\": 0.768421903869573, \"weight\": 777}, {\"Unnamed: 0\": 98, \"y\": 0.0197324594382505, \"block\": \"B\", \"banana_number\": 3, \"treatment\": \"treatment\", \"day\": 5, \"humidity\": 48, \"temperature\": 73, \"black_ratio\": 0.679871379493155, \"weight\": 777}, {\"Unnamed: 0\": 99, \"y\": 0.00629060603793985, \"block\": \"B\", \"banana_number\": 4, \"treatment\": \"treatment\", \"day\": 5, \"humidity\": 48, \"temperature\": 73, \"black_ratio\": 0.792381680681532, \"weight\": 777}, {\"Unnamed: 0\": 100, \"y\": 0.0125959093127992, \"block\": \"B\", \"banana_number\": 2, \"treatment\": \"treatment\", \"day\": 5, \"humidity\": 48, \"temperature\": 73, \"black_ratio\": 0.7991067327779878, \"weight\": 777}, {\"Unnamed: 0\": 101, \"y\": 0.0016859994383555698, \"block\": \"B\", \"banana_number\": 7, \"treatment\": \"treatment\", \"day\": 6, \"humidity\": 50, \"temperature\": 77, \"black_ratio\": 0.771514884889141, \"weight\": 777}, {\"Unnamed: 0\": 102, \"y\": 0.00937591037572438, \"block\": \"B\", \"banana_number\": 3, \"treatment\": \"treatment\", \"day\": 6, \"humidity\": 50, \"temperature\": 77, \"black_ratio\": 0.669514830430629, \"weight\": 777}, {\"Unnamed: 0\": 103, \"y\": 0.0183429144227135, \"block\": \"B\", \"banana_number\": 4, \"treatment\": \"treatment\", \"day\": 6, \"humidity\": 50, \"temperature\": 77, \"black_ratio\": 0.8044339890663059, \"weight\": 777}, {\"Unnamed: 0\": 104, \"y\": -0.00064021557697147, \"block\": \"B\", \"banana_number\": 2, \"treatment\": \"treatment\", \"day\": 6, \"humidity\": 50, \"temperature\": 77, \"black_ratio\": 0.7858706078882169, \"weight\": 777}, {\"Unnamed: 0\": 105, \"y\": 0.00582968526916938, \"block\": \"B\", \"banana_number\": 7, \"treatment\": \"treatment\", \"day\": 7, \"humidity\": 46, \"temperature\": 75, \"black_ratio\": 0.7756585707199549, \"weight\": 777}, {\"Unnamed: 0\": 106, \"y\": 0.02802959098377, \"block\": \"B\", \"banana_number\": 3, \"treatment\": \"treatment\", \"day\": 7, \"humidity\": 46, \"temperature\": 75, \"black_ratio\": 0.688168511038675, \"weight\": 777}, {\"Unnamed: 0\": 107, \"y\": -0.005761784362664829, \"block\": \"B\", \"banana_number\": 4, \"treatment\": \"treatment\", \"day\": 7, \"humidity\": 46, \"temperature\": 75, \"black_ratio\": 0.780329290280927, \"weight\": 777}, {\"Unnamed: 0\": 108, \"y\": 0.0192474752246578, \"block\": \"B\", \"banana_number\": 2, \"treatment\": \"treatment\", \"day\": 7, \"humidity\": 46, \"temperature\": 75, \"black_ratio\": 0.8057582986898459, \"weight\": 777}, {\"Unnamed: 0\": 109, \"y\": 0.0208551495443857, \"block\": \"B\", \"banana_number\": 2, \"treatment\": \"treatment\", \"day\": 8, \"humidity\": 45, \"temperature\": 75, \"black_ratio\": 0.8073659730095741, \"weight\": 777}, {\"Unnamed: 0\": 110, \"y\": 0.0270058365745989, \"block\": \"B\", \"banana_number\": 4, \"treatment\": \"treatment\", \"day\": 8, \"humidity\": 45, \"temperature\": 75, \"black_ratio\": 0.8130969112181909, \"weight\": 777}, {\"Unnamed: 0\": 111, \"y\": 0.0371416318263417, \"block\": \"B\", \"banana_number\": 3, \"treatment\": \"treatment\", \"day\": 8, \"humidity\": 45, \"temperature\": 75, \"black_ratio\": 0.6972805518812459, \"weight\": 777}, {\"Unnamed: 0\": 112, \"y\": 0.009685577548920741, \"block\": \"B\", \"banana_number\": 7, \"treatment\": \"treatment\", \"day\": 8, \"humidity\": 45, \"temperature\": 75, \"black_ratio\": 0.779514462999706, \"weight\": 777}, {\"Unnamed: 0\": 113, \"y\": -0.0133324114753927, \"block\": \"B\", \"banana_number\": 2, \"treatment\": \"treatment\", \"day\": 9, \"humidity\": 48, \"temperature\": 70, \"black_ratio\": 0.7731784119897959, \"weight\": 777}, {\"Unnamed: 0\": 114, \"y\": -0.0152661889408542, \"block\": \"B\", \"banana_number\": 4, \"treatment\": \"treatment\", \"day\": 9, \"humidity\": 48, \"temperature\": 70, \"black_ratio\": 0.7708248857027379, \"weight\": 777}, {\"Unnamed: 0\": 115, \"y\": 0.016811055537183997, \"block\": \"B\", \"banana_number\": 3, \"treatment\": \"treatment\", \"day\": 9, \"humidity\": 48, \"temperature\": 70, \"black_ratio\": 0.676949975592089, \"weight\": 777}, {\"Unnamed: 0\": 116, \"y\": 0.0185207329459561, \"block\": \"B\", \"banana_number\": 7, \"treatment\": \"treatment\", \"day\": 9, \"humidity\": 48, \"temperature\": 70, \"black_ratio\": 0.788349618396741, \"weight\": 777}, {\"Unnamed: 0\": 117, \"y\": 0.00318377254451163, \"block\": \"B\", \"banana_number\": 2, \"treatment\": \"treatment\", \"day\": 10, \"humidity\": 46, \"temperature\": 73, \"black_ratio\": 0.7896945960097, \"weight\": 148}, {\"Unnamed: 0\": 118, \"y\": 0.0023163649140211, \"block\": \"B\", \"banana_number\": 4, \"treatment\": \"treatment\", \"day\": 10, \"humidity\": 46, \"temperature\": 73, \"black_ratio\": 0.7884074395576129, \"weight\": 137}, {\"Unnamed: 0\": 119, \"y\": 0.006978669650730679, \"block\": \"B\", \"banana_number\": 3, \"treatment\": \"treatment\", \"day\": 10, \"humidity\": 46, \"temperature\": 73, \"black_ratio\": 0.6671175897056351, \"weight\": 142}, {\"Unnamed: 0\": 120, \"y\": 0.0517256622942386, \"block\": \"B\", \"banana_number\": 7, \"treatment\": \"treatment\", \"day\": 10, \"humidity\": 46, \"temperature\": 73, \"black_ratio\": 0.8215545477450241, \"weight\": 128}, {\"Unnamed: 0\": 121, \"y\": -0.0650039843290712, \"block\": \"B\", \"banana_number\": 1, \"treatment\": \"control\", \"day\": 1, \"humidity\": 43, \"temperature\": 73, \"black_ratio\": 0.508684656347107, \"weight\": 152}, {\"Unnamed: 0\": 122, \"y\": -0.0650039843290712, \"block\": \"B\", \"banana_number\": 5, \"treatment\": \"control\", \"day\": 1, \"humidity\": 43, \"temperature\": 73, \"black_ratio\": 0.508684656347107, \"weight\": 140}, {\"Unnamed: 0\": 123, \"y\": -0.0650039843290712, \"block\": \"B\", \"banana_number\": 6, \"treatment\": \"control\", \"day\": 1, \"humidity\": 43, \"temperature\": 73, \"black_ratio\": 0.508684656347107, \"weight\": 145}, {\"Unnamed: 0\": 124, \"y\": -0.0650039843290712, \"block\": \"B\", \"banana_number\": 8, \"treatment\": \"control\", \"day\": 1, \"humidity\": 43, \"temperature\": 73, \"black_ratio\": 0.508684656347107, \"weight\": 150}, {\"Unnamed: 0\": 125, \"y\": -0.0811424854471109, \"block\": \"B\", \"banana_number\": 1, \"treatment\": \"control\", \"day\": 2, \"humidity\": 45, \"temperature\": 77, \"black_ratio\": 0.492546155229067, \"weight\": 777}, {\"Unnamed: 0\": 126, \"y\": -0.0811424854471109, \"block\": \"B\", \"banana_number\": 5, \"treatment\": \"control\", \"day\": 2, \"humidity\": 45, \"temperature\": 77, \"black_ratio\": 0.492546155229067, \"weight\": 777}, {\"Unnamed: 0\": 127, \"y\": -0.0811424854471109, \"block\": \"B\", \"banana_number\": 6, \"treatment\": \"control\", \"day\": 2, \"humidity\": 45, \"temperature\": 77, \"black_ratio\": 0.492546155229067, \"weight\": 777}, {\"Unnamed: 0\": 128, \"y\": -0.0811424854471109, \"block\": \"B\", \"banana_number\": 8, \"treatment\": \"control\", \"day\": 2, \"humidity\": 45, \"temperature\": 77, \"black_ratio\": 0.492546155229067, \"weight\": 777}, {\"Unnamed: 0\": 129, \"y\": -0.0222880071202863, \"block\": \"B\", \"banana_number\": 1, \"treatment\": \"control\", \"day\": 3, \"humidity\": 50, \"temperature\": 79, \"black_ratio\": 0.5514006335558921, \"weight\": 777}, {\"Unnamed: 0\": 130, \"y\": -0.0222880071202863, \"block\": \"B\", \"banana_number\": 5, \"treatment\": \"control\", \"day\": 3, \"humidity\": 50, \"temperature\": 79, \"black_ratio\": 0.5514006335558921, \"weight\": 777}, {\"Unnamed: 0\": 131, \"y\": -0.0222880071202863, \"block\": \"B\", \"banana_number\": 6, \"treatment\": \"control\", \"day\": 3, \"humidity\": 50, \"temperature\": 79, \"black_ratio\": 0.5514006335558921, \"weight\": 777}, {\"Unnamed: 0\": 132, \"y\": -0.0222880071202863, \"block\": \"B\", \"banana_number\": 8, \"treatment\": \"control\", \"day\": 3, \"humidity\": 50, \"temperature\": 79, \"black_ratio\": 0.5514006335558921, \"weight\": 777}, {\"Unnamed: 0\": 133, \"y\": -0.032776929734085, \"block\": \"B\", \"banana_number\": 1, \"treatment\": \"control\", \"day\": 4, \"humidity\": 46, \"temperature\": 73, \"black_ratio\": 0.540911710942093, \"weight\": 777}, {\"Unnamed: 0\": 134, \"y\": -0.032776929734085, \"block\": \"B\", \"banana_number\": 5, \"treatment\": \"control\", \"day\": 4, \"humidity\": 46, \"temperature\": 73, \"black_ratio\": 0.540911710942093, \"weight\": 777}, {\"Unnamed: 0\": 135, \"y\": -0.032776929734085, \"block\": \"B\", \"banana_number\": 6, \"treatment\": \"control\", \"day\": 4, \"humidity\": 46, \"temperature\": 73, \"black_ratio\": 0.540911710942093, \"weight\": 777}, {\"Unnamed: 0\": 136, \"y\": -0.032776929734085, \"block\": \"B\", \"banana_number\": 8, \"treatment\": \"control\", \"day\": 4, \"humidity\": 46, \"temperature\": 73, \"black_ratio\": 0.540911710942093, \"weight\": 777}, {\"Unnamed: 0\": 137, \"y\": -0.000371982801608328, \"block\": \"B\", \"banana_number\": 1, \"treatment\": \"control\", \"day\": 5, \"humidity\": 48, \"temperature\": 73, \"black_ratio\": 0.57331665787457, \"weight\": 777}, {\"Unnamed: 0\": 138, \"y\": -0.000371982801608328, \"block\": \"B\", \"banana_number\": 5, \"treatment\": \"control\", \"day\": 5, \"humidity\": 48, \"temperature\": 73, \"black_ratio\": 0.57331665787457, \"weight\": 777}, {\"Unnamed: 0\": 139, \"y\": -0.000371982801608328, \"block\": \"B\", \"banana_number\": 6, \"treatment\": \"control\", \"day\": 5, \"humidity\": 48, \"temperature\": 73, \"black_ratio\": 0.57331665787457, \"weight\": 777}, {\"Unnamed: 0\": 140, \"y\": -0.000371982801608328, \"block\": \"B\", \"banana_number\": 8, \"treatment\": \"control\", \"day\": 5, \"humidity\": 48, \"temperature\": 73, \"black_ratio\": 0.57331665787457, \"weight\": 777}, {\"Unnamed: 0\": 141, \"y\": 0.0030826880327748897, \"block\": \"B\", \"banana_number\": 1, \"treatment\": \"control\", \"day\": 6, \"humidity\": 50, \"temperature\": 77, \"black_ratio\": 0.5767713287089531, \"weight\": 777}, {\"Unnamed: 0\": 142, \"y\": 0.0030826880327748897, \"block\": \"B\", \"banana_number\": 5, \"treatment\": \"control\", \"day\": 6, \"humidity\": 50, \"temperature\": 77, \"black_ratio\": 0.5767713287089531, \"weight\": 777}, {\"Unnamed: 0\": 143, \"y\": 0.0030826880327748897, \"block\": \"B\", \"banana_number\": 6, \"treatment\": \"control\", \"day\": 6, \"humidity\": 50, \"temperature\": 77, \"black_ratio\": 0.5767713287089531, \"weight\": 777}, {\"Unnamed: 0\": 144, \"y\": 0.0030826880327748897, \"block\": \"B\", \"banana_number\": 8, \"treatment\": \"control\", \"day\": 6, \"humidity\": 50, \"temperature\": 77, \"black_ratio\": 0.5767713287089531, \"weight\": 777}, {\"Unnamed: 0\": 145, \"y\": 0.0183479665979046, \"block\": \"B\", \"banana_number\": 1, \"treatment\": \"control\", \"day\": 7, \"humidity\": 46, \"temperature\": 75, \"black_ratio\": 0.592036607274082, \"weight\": 777}, {\"Unnamed: 0\": 146, \"y\": 0.0183479665979046, \"block\": \"B\", \"banana_number\": 5, \"treatment\": \"control\", \"day\": 7, \"humidity\": 46, \"temperature\": 75, \"black_ratio\": 0.592036607274082, \"weight\": 777}, {\"Unnamed: 0\": 147, \"y\": 0.0183479665979046, \"block\": \"B\", \"banana_number\": 6, \"treatment\": \"control\", \"day\": 7, \"humidity\": 46, \"temperature\": 75, \"black_ratio\": 0.592036607274082, \"weight\": 777}, {\"Unnamed: 0\": 148, \"y\": 0.0183479665979046, \"block\": \"B\", \"banana_number\": 8, \"treatment\": \"control\", \"day\": 7, \"humidity\": 46, \"temperature\": 75, \"black_ratio\": 0.592036607274082, \"weight\": 777}, {\"Unnamed: 0\": 149, \"y\": 0.0391138009023054, \"block\": \"B\", \"banana_number\": 1, \"treatment\": \"control\", \"day\": 8, \"humidity\": 45, \"temperature\": 75, \"black_ratio\": 0.612802441578483, \"weight\": 777}, {\"Unnamed: 0\": 150, \"y\": 0.0391138009023054, \"block\": \"B\", \"banana_number\": 5, \"treatment\": \"control\", \"day\": 8, \"humidity\": 45, \"temperature\": 75, \"black_ratio\": 0.612802441578483, \"weight\": 777}, {\"Unnamed: 0\": 151, \"y\": 0.0391138009023054, \"block\": \"B\", \"banana_number\": 6, \"treatment\": \"control\", \"day\": 8, \"humidity\": 45, \"temperature\": 75, \"black_ratio\": 0.612802441578483, \"weight\": 777}, {\"Unnamed: 0\": 152, \"y\": 0.0391138009023054, \"block\": \"B\", \"banana_number\": 8, \"treatment\": \"control\", \"day\": 8, \"humidity\": 45, \"temperature\": 75, \"black_ratio\": 0.612802441578483, \"weight\": 777}, {\"Unnamed: 0\": 153, \"y\": 0.0610014477434493, \"block\": \"B\", \"banana_number\": 1, \"treatment\": \"control\", \"day\": 9, \"humidity\": 48, \"temperature\": 70, \"black_ratio\": 0.6346900884196272, \"weight\": 777}, {\"Unnamed: 0\": 154, \"y\": 0.0610014477434493, \"block\": \"B\", \"banana_number\": 5, \"treatment\": \"control\", \"day\": 9, \"humidity\": 48, \"temperature\": 70, \"black_ratio\": 0.6346900884196272, \"weight\": 777}, {\"Unnamed: 0\": 155, \"y\": 0.0610014477434493, \"block\": \"B\", \"banana_number\": 6, \"treatment\": \"control\", \"day\": 9, \"humidity\": 48, \"temperature\": 70, \"black_ratio\": 0.6346900884196272, \"weight\": 777}, {\"Unnamed: 0\": 156, \"y\": 0.0610014477434493, \"block\": \"B\", \"banana_number\": 8, \"treatment\": \"control\", \"day\": 9, \"humidity\": 48, \"temperature\": 70, \"black_ratio\": 0.6346900884196272, \"weight\": 777}, {\"Unnamed: 0\": 157, \"y\": 0.0800374861557277, \"block\": \"B\", \"banana_number\": 1, \"treatment\": \"control\", \"day\": 10, \"humidity\": 46, \"temperature\": 73, \"black_ratio\": 0.653726126831906, \"weight\": 130}, {\"Unnamed: 0\": 158, \"y\": 0.0800374861557277, \"block\": \"B\", \"banana_number\": 5, \"treatment\": \"control\", \"day\": 10, \"humidity\": 46, \"temperature\": 73, \"black_ratio\": 0.653726126831906, \"weight\": 116}, {\"Unnamed: 0\": 159, \"y\": 0.0800374861557277, \"block\": \"B\", \"banana_number\": 6, \"treatment\": \"control\", \"day\": 10, \"humidity\": 46, \"temperature\": 73, \"black_ratio\": 0.653726126831906, \"weight\": 122}, {\"Unnamed: 0\": 160, \"y\": 0.0800374861557277, \"block\": \"B\", \"banana_number\": 8, \"treatment\": \"control\", \"day\": 10, \"humidity\": 46, \"temperature\": 73, \"black_ratio\": 0.653726126831906, \"weight\": 124}]}}, {\"mode\": \"vega-lite\"});\n",
       "</script>"
      ],
      "text/plain": [
       "alt.HConcatChart(...)"
      ]
     },
     "execution_count": 29,
     "metadata": {},
     "output_type": "execute_result"
    }
   ],
   "source": [
    "brush = alt.selection(type='interval')\n",
    "\n",
    "points = alt.Chart(b_data).mark_circle().encode(\n",
    "    alt.X('day:Q', title='Date'),\n",
    "    alt.Y('y:Q',\n",
    "         title='Normalized changes in HSV',\n",
    "         scale=alt.Scale(domain=[-0.1, 0.15])\n",
    "       ),\n",
    "#     size= 'subject:N', #should be the weight\n",
    "    color= alt.condition(brush, 'treatment:N', alt.value('lightgray')),\n",
    "#     size = 'subject:N',\n",
    "#     color= alt.condition(brush, 'treatment:N', alt.value('lightgray'),legend=alt.Legend(orient=\"right\"))\n",
    ").add_selection(\n",
    "    brush\n",
    ").transform_filter(\n",
    "    click\n",
    ")\n",
    "\n",
    "temp = alt.Chart(b_data).mark_circle().encode(\n",
    "    alt.X('humidity:Q', title='Date',\n",
    "          scale=alt.Scale(domain=[30, 60])),\n",
    "    alt.Y('temperature:Q',\n",
    "         title='Maximum Daily Temperature (C)',\n",
    "         scale=alt.Scale(domain=[65, 90])\n",
    "       ),\n",
    "#     size= 'subject:N', #should be the weight\n",
    "    color= alt.condition(brush, 'treatment:N', alt.value('lightgray'),legend=alt.Legend(orient=\"top\"))\n",
    ").transform_filter(\n",
    "    brush\n",
    ").add_selection(\n",
    "    click\n",
    ")\n",
    "\n",
    "\n",
    "points | temp"
   ]
  },
  {
   "cell_type": "code",
   "execution_count": null,
   "metadata": {
    "collapsed": true
   },
   "outputs": [],
   "source": [
    "np.random.seed(0)\n",
    "\n",
    "n_objects = 20\n",
    "n_times = 50\n",
    "\n",
    "# Create one (x, y) pair of metadata per object\n",
    "locations = pd.DataFrame({\n",
    "    'id': range(n_objects),\n",
    "    'x': np.random.randn(n_objects),\n",
    "    'y': np.random.randn(n_objects)\n",
    "})\n",
    "\n",
    "locations.head()"
   ]
  },
  {
   "cell_type": "code",
   "execution_count": null,
   "metadata": {
    "collapsed": true
   },
   "outputs": [],
   "source": [
    "# Create a 50-element time-series for each object\n",
    "timeseries = pd.DataFrame(np.random.randn(n_times, n_objects).cumsum(0),\n",
    "                          columns=locations['id'],\n",
    "                          index=pd.RangeIndex(0, n_times, name='time'))\n",
    "\n",
    "timeseries.head()"
   ]
  },
  {
   "cell_type": "code",
   "execution_count": null,
   "metadata": {
    "collapsed": true
   },
   "outputs": [],
   "source": [
    "# Melt the wide-form timeseries into a long-form view\n",
    "timeseries = timeseries.reset_index().melt('time')\n",
    "timeseries.head()"
   ]
  },
  {
   "cell_type": "code",
   "execution_count": null,
   "metadata": {
    "collapsed": true
   },
   "outputs": [],
   "source": [
    "# Merge the (x, y) metadata into the long-form view\n",
    "timeseries['id'] = timeseries['id'].astype(int)  # make merge not complain\n",
    "data = pd.merge(timeseries, locations, on='id')"
   ]
  },
  {
   "cell_type": "code",
   "execution_count": null,
   "metadata": {
    "collapsed": true
   },
   "outputs": [],
   "source": [
    "# Data is prepared, now make a chart\n",
    "\n",
    "#selector = alt.selection_single(empty='all', fields=['id'])\n",
    "selector = alt.selection_single(fields=['id'])\n",
    "\n",
    "base = alt.Chart(data).properties(\n",
    "    width=250,\n",
    "    height=250\n",
    ").add_selection(selector)\n",
    "\n",
    "\n",
    "\n",
    "points = base.mark_point(filled=True, size=200).encode(\n",
    "    x='mean(x)',\n",
    "    y='mean(y)',\n",
    "    color=alt.condition(selector, 'id:O', alt.value('lightgray'), legend=None),\n",
    ")\n",
    "\n",
    "timeseries = base.mark_line().encode(\n",
    "    x='time',\n",
    "    y=alt.Y('value', scale=alt.Scale(domain=(-15, 15))),\n",
    "    color=alt.Color('id:O', legend=None)\n",
    ").transform_filter(\n",
    "    selector\n",
    ")\n",
    "\n",
    "points | timeseries"
   ]
  }
 ],
 "metadata": {
  "kernelspec": {
   "display_name": "Python 3",
   "language": "python",
   "name": "python3"
  },
  "language_info": {
   "codemirror_mode": {
    "name": "ipython",
    "version": 3
   },
   "file_extension": ".py",
   "mimetype": "text/x-python",
   "name": "python",
   "nbconvert_exporter": "python",
   "pygments_lexer": "ipython3",
   "version": "3.7.6"
  }
 },
 "nbformat": 4,
 "nbformat_minor": 4
}
