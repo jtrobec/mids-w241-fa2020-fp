{
 "cells": [
  {
   "cell_type": "code",
   "execution_count": 1,
   "metadata": {},
   "outputs": [],
   "source": [
    "import altair as alt\n",
    "import pandas as pd\n",
    "import numpy as np\n",
    "#get the data\n",
    "from vega_datasets import data"
   ]
  },
  {
   "cell_type": "markdown",
   "metadata": {},
   "source": [
    "[source](https://medium.com/analytics-vidhya/interactive-data-viz-using-altair-873139771fe2) "
   ]
  },
  {
   "cell_type": "code",
   "execution_count": null,
   "metadata": {
    "collapsed": true
   },
   "outputs": [],
   "source": [
    "settle_data = data.seattle_weather()\n",
    "settle_data.head()\n",
    "source.head()"
   ]
  },
  {
   "cell_type": "code",
   "execution_count": null,
   "metadata": {
    "collapsed": true
   },
   "outputs": [],
   "source": [
    "settle_data.weather.unique()"
   ]
  },
  {
   "cell_type": "code",
   "execution_count": null,
   "metadata": {
    "collapsed": true
   },
   "outputs": [],
   "source": [
    "settle_data.date.unique()"
   ]
  },
  {
   "cell_type": "code",
   "execution_count": null,
   "metadata": {
    "collapsed": true
   },
   "outputs": [],
   "source": [
    "## Add brush and click"
   ]
  },
  {
   "cell_type": "code",
   "execution_count": 6,
   "metadata": {},
   "outputs": [],
   "source": [
    "# Defining the color scale for the plot (distribution based on Weather types)\n",
    "scale = alt.Scale(domain=['sun', 'fog', 'drizzle', 'rain', 'snow'],\n",
    "                  range=['#e7ba52', '#a7a7a7', '#aec7e8', '#1f77b4', '#9467bd'])\n",
    "color = alt.Color('weather:N', scale=scale) \n",
    "# N : used to specify nominal data\n",
    "\n",
    "##############################################################################\n",
    "### Add brush and click\n",
    "# We create two selections\n",
    "# - a brush that is active on the top panel\n",
    "# - a multi-click that is active on the bottom panel\n",
    "##############################################################################\n",
    "brush = alt.selection_interval(encodings=['x'])\n",
    "click = alt.selection_multi(encodings=['color'])"
   ]
  },
  {
   "cell_type": "markdown",
   "metadata": {},
   "source": [
    "- `T`: Specify Time data\n",
    "- `Q`: Specify quantitative data\n",
    "- `O` | Specify ordinal data"
   ]
  },
  {
   "cell_type": "markdown",
   "metadata": {},
   "source": [
    "## Read Banana"
   ]
  },
  {
   "cell_type": "code",
   "execution_count": 4,
   "metadata": {},
   "outputs": [
    {
     "data": {
      "text/html": [
       "<div>\n",
       "<style scoped>\n",
       "    .dataframe tbody tr th:only-of-type {\n",
       "        vertical-align: middle;\n",
       "    }\n",
       "\n",
       "    .dataframe tbody tr th {\n",
       "        vertical-align: top;\n",
       "    }\n",
       "\n",
       "    .dataframe thead th {\n",
       "        text-align: right;\n",
       "    }\n",
       "</style>\n",
       "<table border=\"1\" class=\"dataframe\">\n",
       "  <thead>\n",
       "    <tr style=\"text-align: right;\">\n",
       "      <th></th>\n",
       "      <th>block</th>\n",
       "      <th>banana_number</th>\n",
       "      <th>treatment</th>\n",
       "      <th>day</th>\n",
       "      <th>humidity</th>\n",
       "      <th>temperature</th>\n",
       "      <th>black_ratio</th>\n",
       "    </tr>\n",
       "  </thead>\n",
       "  <tbody>\n",
       "    <tr>\n",
       "      <th>155</th>\n",
       "      <td>B</td>\n",
       "      <td>8</td>\n",
       "      <td>control</td>\n",
       "      <td>9</td>\n",
       "      <td>48.0</td>\n",
       "      <td>70.0</td>\n",
       "      <td>0.634690</td>\n",
       "    </tr>\n",
       "    <tr>\n",
       "      <th>156</th>\n",
       "      <td>B</td>\n",
       "      <td>1</td>\n",
       "      <td>control</td>\n",
       "      <td>10</td>\n",
       "      <td>46.0</td>\n",
       "      <td>73.0</td>\n",
       "      <td>0.653726</td>\n",
       "    </tr>\n",
       "    <tr>\n",
       "      <th>157</th>\n",
       "      <td>B</td>\n",
       "      <td>5</td>\n",
       "      <td>control</td>\n",
       "      <td>10</td>\n",
       "      <td>46.0</td>\n",
       "      <td>73.0</td>\n",
       "      <td>0.653726</td>\n",
       "    </tr>\n",
       "    <tr>\n",
       "      <th>158</th>\n",
       "      <td>B</td>\n",
       "      <td>6</td>\n",
       "      <td>control</td>\n",
       "      <td>10</td>\n",
       "      <td>46.0</td>\n",
       "      <td>73.0</td>\n",
       "      <td>0.653726</td>\n",
       "    </tr>\n",
       "    <tr>\n",
       "      <th>159</th>\n",
       "      <td>B</td>\n",
       "      <td>8</td>\n",
       "      <td>control</td>\n",
       "      <td>10</td>\n",
       "      <td>46.0</td>\n",
       "      <td>73.0</td>\n",
       "      <td>0.653726</td>\n",
       "    </tr>\n",
       "  </tbody>\n",
       "</table>\n",
       "</div>"
      ],
      "text/plain": [
       "    block  banana_number treatment  day  humidity  temperature  black_ratio\n",
       "155     B              8   control    9      48.0         70.0     0.634690\n",
       "156     B              1   control   10      46.0         73.0     0.653726\n",
       "157     B              5   control   10      46.0         73.0     0.653726\n",
       "158     B              6   control   10      46.0         73.0     0.653726\n",
       "159     B              8   control   10      46.0         73.0     0.653726"
      ]
     },
     "execution_count": 4,
     "metadata": {},
     "output_type": "execute_result"
    }
   ],
   "source": [
    "colnames=['block', 'banana_number', 'treatment', 'day', 'humidity', 'temperature', 'black_ratio'] \n",
    "b_data = pd.read_csv(\"banana.csv\",names=colnames, header=None)\n",
    "b_data.head()\n",
    "b_data.tail()"
   ]
  },
  {
   "cell_type": "markdown",
   "metadata": {},
   "source": [
    "- `T`: Specify Time data\n",
    "- `Q`: Specify quantitative data\n",
    "- `O` | Specify ordinal data"
   ]
  },
  {
   "cell_type": "code",
   "execution_count": 8,
   "metadata": {},
   "outputs": [
    {
     "data": {
      "text/html": [
       "<div>\n",
       "<style scoped>\n",
       "    .dataframe tbody tr th:only-of-type {\n",
       "        vertical-align: middle;\n",
       "    }\n",
       "\n",
       "    .dataframe tbody tr th {\n",
       "        vertical-align: top;\n",
       "    }\n",
       "\n",
       "    .dataframe thead th {\n",
       "        text-align: right;\n",
       "    }\n",
       "</style>\n",
       "<table border=\"1\" class=\"dataframe\">\n",
       "  <thead>\n",
       "    <tr style=\"text-align: right;\">\n",
       "      <th></th>\n",
       "      <th>block</th>\n",
       "      <th>banana_number</th>\n",
       "      <th>treatment</th>\n",
       "      <th>day</th>\n",
       "      <th>humidity</th>\n",
       "      <th>temperature</th>\n",
       "      <th>black_ratio</th>\n",
       "    </tr>\n",
       "  </thead>\n",
       "  <tbody>\n",
       "    <tr>\n",
       "      <th>0</th>\n",
       "      <td>N</td>\n",
       "      <td>1</td>\n",
       "      <td>control</td>\n",
       "      <td>1</td>\n",
       "      <td>37.0</td>\n",
       "      <td>72.0</td>\n",
       "      <td>0.858422</td>\n",
       "    </tr>\n",
       "    <tr>\n",
       "      <th>1</th>\n",
       "      <td>N</td>\n",
       "      <td>3</td>\n",
       "      <td>treatment</td>\n",
       "      <td>1</td>\n",
       "      <td>40.0</td>\n",
       "      <td>72.0</td>\n",
       "      <td>0.782818</td>\n",
       "    </tr>\n",
       "    <tr>\n",
       "      <th>2</th>\n",
       "      <td>N</td>\n",
       "      <td>7</td>\n",
       "      <td>treatment</td>\n",
       "      <td>1</td>\n",
       "      <td>47.0</td>\n",
       "      <td>72.0</td>\n",
       "      <td>0.788474</td>\n",
       "    </tr>\n",
       "    <tr>\n",
       "      <th>3</th>\n",
       "      <td>N</td>\n",
       "      <td>5</td>\n",
       "      <td>control</td>\n",
       "      <td>1</td>\n",
       "      <td>36.0</td>\n",
       "      <td>73.0</td>\n",
       "      <td>0.863295</td>\n",
       "    </tr>\n",
       "    <tr>\n",
       "      <th>4</th>\n",
       "      <td>N</td>\n",
       "      <td>2</td>\n",
       "      <td>treatment</td>\n",
       "      <td>1</td>\n",
       "      <td>72.0</td>\n",
       "      <td>40.0</td>\n",
       "      <td>0.790132</td>\n",
       "    </tr>\n",
       "  </tbody>\n",
       "</table>\n",
       "</div>"
      ],
      "text/plain": [
       "  block  banana_number  treatment  day  humidity  temperature  black_ratio\n",
       "0     N              1    control    1      37.0         72.0     0.858422\n",
       "1     N              3  treatment    1      40.0         72.0     0.782818\n",
       "2     N              7  treatment    1      47.0         72.0     0.788474\n",
       "3     N              5    control    1      36.0         73.0     0.863295\n",
       "4     N              2  treatment    1      72.0         40.0     0.790132"
      ]
     },
     "execution_count": 8,
     "metadata": {},
     "output_type": "execute_result"
    }
   ],
   "source": [
    "b_data.head()"
   ]
  },
  {
   "cell_type": "code",
   "execution_count": 14,
   "metadata": {},
   "outputs": [
    {
     "data": {
      "text/html": [
       "\n",
       "<div id=\"altair-viz-ef5cc351b373455cb689a1608d1cb134\"></div>\n",
       "<script type=\"text/javascript\">\n",
       "  (function(spec, embedOpt){\n",
       "    let outputDiv = document.currentScript.previousElementSibling;\n",
       "    if (outputDiv.id !== \"altair-viz-ef5cc351b373455cb689a1608d1cb134\") {\n",
       "      outputDiv = document.getElementById(\"altair-viz-ef5cc351b373455cb689a1608d1cb134\");\n",
       "    }\n",
       "    const paths = {\n",
       "      \"vega\": \"https://cdn.jsdelivr.net/npm//vega@5?noext\",\n",
       "      \"vega-lib\": \"https://cdn.jsdelivr.net/npm//vega-lib?noext\",\n",
       "      \"vega-lite\": \"https://cdn.jsdelivr.net/npm//vega-lite@4.8.1?noext\",\n",
       "      \"vega-embed\": \"https://cdn.jsdelivr.net/npm//vega-embed@6?noext\",\n",
       "    };\n",
       "\n",
       "    function loadScript(lib) {\n",
       "      return new Promise(function(resolve, reject) {\n",
       "        var s = document.createElement('script');\n",
       "        s.src = paths[lib];\n",
       "        s.async = true;\n",
       "        s.onload = () => resolve(paths[lib]);\n",
       "        s.onerror = () => reject(`Error loading script: ${paths[lib]}`);\n",
       "        document.getElementsByTagName(\"head\")[0].appendChild(s);\n",
       "      });\n",
       "    }\n",
       "\n",
       "    function showError(err) {\n",
       "      outputDiv.innerHTML = `<div class=\"error\" style=\"color:red;\">${err}</div>`;\n",
       "      throw err;\n",
       "    }\n",
       "\n",
       "    function displayChart(vegaEmbed) {\n",
       "      vegaEmbed(outputDiv, spec, embedOpt)\n",
       "        .catch(err => showError(`Javascript Error: ${err.message}<br>This usually means there's a typo in your chart specification. See the javascript console for the full traceback.`));\n",
       "    }\n",
       "\n",
       "    if(typeof define === \"function\" && define.amd) {\n",
       "      requirejs.config({paths});\n",
       "      require([\"vega-embed\"], displayChart, err => showError(`Error loading script: ${err.message}`));\n",
       "    } else if (typeof vegaEmbed === \"function\") {\n",
       "      displayChart(vegaEmbed);\n",
       "    } else {\n",
       "      loadScript(\"vega\")\n",
       "        .then(() => loadScript(\"vega-lite\"))\n",
       "        .then(() => loadScript(\"vega-embed\"))\n",
       "        .catch(showError)\n",
       "        .then(() => displayChart(vegaEmbed));\n",
       "    }\n",
       "  })({\"config\": {\"view\": {\"continuousWidth\": 400, \"continuousHeight\": 300}}, \"hconcat\": [{\"mark\": \"circle\", \"encoding\": {\"color\": {\"condition\": {\"type\": \"nominal\", \"field\": \"treatment\", \"selection\": \"selector010\"}, \"value\": \"lightgray\"}, \"x\": {\"type\": \"quantitative\", \"field\": \"day\", \"title\": \"Date\"}, \"y\": {\"type\": \"quantitative\", \"field\": \"black_ratio\", \"scale\": {\"domain\": [0.2, 1]}, \"title\": \"Maximum Daily Temperature (C)\"}}, \"selection\": {\"selector010\": {\"type\": \"interval\"}}, \"transform\": [{\"filter\": {\"selection\": \"selector003\"}}]}, {\"mark\": \"circle\", \"encoding\": {\"color\": {\"condition\": {\"type\": \"nominal\", \"field\": \"treatment\", \"legend\": {\"orient\": \"right\"}, \"selection\": \"selector010\"}, \"value\": \"lightgray\"}, \"x\": {\"type\": \"quantitative\", \"field\": \"humidity\", \"scale\": {\"domain\": [0, 90]}, \"title\": \"Date\"}, \"y\": {\"type\": \"quantitative\", \"field\": \"temperature\", \"scale\": {\"domain\": [0, 90]}, \"title\": \"Maximum Daily Temperature (C)\"}}, \"selection\": {\"selector003\": {\"type\": \"multi\", \"encodings\": [\"color\"]}}, \"transform\": [{\"filter\": {\"selection\": \"selector010\"}}]}], \"data\": {\"name\": \"data-e97c68f25abd86031b6524519b4c5d23\"}, \"$schema\": \"https://vega.github.io/schema/vega-lite/v4.8.1.json\", \"datasets\": {\"data-e97c68f25abd86031b6524519b4c5d23\": [{\"block\": \"N\", \"banana_number\": 1, \"treatment\": \"control\", \"day\": 1, \"humidity\": 37.0, \"temperature\": 72.0, \"black_ratio\": 0.8584217476978481}, {\"block\": \"N\", \"banana_number\": 3, \"treatment\": \"treatment\", \"day\": 1, \"humidity\": 40.0, \"temperature\": 72.0, \"black_ratio\": 0.7828182157346292}, {\"block\": \"N\", \"banana_number\": 7, \"treatment\": \"treatment\", \"day\": 1, \"humidity\": 47.0, \"temperature\": 72.0, \"black_ratio\": 0.7884743097634719}, {\"block\": \"N\", \"banana_number\": 5, \"treatment\": \"control\", \"day\": 1, \"humidity\": 36.0, \"temperature\": 73.0, \"black_ratio\": 0.8632945680846081}, {\"block\": \"N\", \"banana_number\": 2, \"treatment\": \"treatment\", \"day\": 1, \"humidity\": 72.0, \"temperature\": 40.0, \"black_ratio\": 0.7901324001882661}, {\"block\": \"N\", \"banana_number\": 4, \"treatment\": \"treatment\", \"day\": 1, \"humidity\": 72.0, \"temperature\": 36.0, \"black_ratio\": 0.7971368279807521}, {\"block\": \"N\", \"banana_number\": 6, \"treatment\": \"control\", \"day\": 1, \"humidity\": 73.0, \"temperature\": 47.0, \"black_ratio\": 0.8700531204465115}, {\"block\": \"N\", \"banana_number\": 8, \"treatment\": \"control\", \"day\": 1, \"humidity\": 72.0, \"temperature\": 47.0, \"black_ratio\": 0.8584168361599582}, {\"block\": \"N\", \"banana_number\": 3, \"treatment\": \"treatment\", \"day\": 2, \"humidity\": 40.0, \"temperature\": 72.0, \"black_ratio\": 0.7919752304447939}, {\"block\": \"N\", \"banana_number\": 1, \"treatment\": \"control\", \"day\": 2, \"humidity\": 37.0, \"temperature\": 72.0, \"black_ratio\": 0.8686735584961137}, {\"block\": \"N\", \"banana_number\": 5, \"treatment\": \"control\", \"day\": 2, \"humidity\": 36.0, \"temperature\": 73.0, \"black_ratio\": 0.8746686130306964}, {\"block\": \"N\", \"banana_number\": 7, \"treatment\": \"treatment\", \"day\": 2, \"humidity\": 47.0, \"temperature\": 72.0, \"black_ratio\": 0.7901295665964886}, {\"block\": \"N\", \"banana_number\": 2, \"treatment\": \"treatment\", \"day\": 2, \"humidity\": 72.0, \"temperature\": 40.0, \"black_ratio\": 0.7942716949998915}, {\"block\": \"N\", \"banana_number\": 6, \"treatment\": \"control\", \"day\": 2, \"humidity\": 73.0, \"temperature\": 47.0, \"black_ratio\": 0.8753067774732288}, {\"block\": \"N\", \"banana_number\": 4, \"treatment\": \"treatment\", \"day\": 2, \"humidity\": 72.0, \"temperature\": 36.0, \"black_ratio\": 0.8004486050980159}, {\"block\": \"N\", \"banana_number\": 8, \"treatment\": \"control\", \"day\": 2, \"humidity\": 72.0, \"temperature\": 47.0, \"black_ratio\": 0.8593163198569033}, {\"block\": \"N\", \"banana_number\": 3, \"treatment\": \"treatment\", \"day\": 3, \"humidity\": 40.0, \"temperature\": 72.0, \"black_ratio\": 0.7877843489046892}, {\"block\": \"N\", \"banana_number\": 1, \"treatment\": \"control\", \"day\": 3, \"humidity\": 37.0, \"temperature\": 72.0, \"black_ratio\": 0.8678208925421811}, {\"block\": \"N\", \"banana_number\": 5, \"treatment\": \"control\", \"day\": 3, \"humidity\": 36.0, \"temperature\": 73.0, \"black_ratio\": 0.8612831954528842}, {\"block\": \"N\", \"banana_number\": 7, \"treatment\": \"treatment\", \"day\": 3, \"humidity\": 47.0, \"temperature\": 72.0, \"black_ratio\": 0.7897881009690932}, {\"block\": \"N\", \"banana_number\": 2, \"treatment\": \"treatment\", \"day\": 3, \"humidity\": 72.0, \"temperature\": 40.0, \"black_ratio\": 0.7988887224216209}, {\"block\": \"N\", \"banana_number\": 6, \"treatment\": \"control\", \"day\": 3, \"humidity\": 73.0, \"temperature\": 47.0, \"black_ratio\": 0.8758581185901709}, {\"block\": \"N\", \"banana_number\": 4, \"treatment\": \"treatment\", \"day\": 3, \"humidity\": 72.0, \"temperature\": 36.0, \"black_ratio\": 0.8013875488752349}, {\"block\": \"N\", \"banana_number\": 8, \"treatment\": \"control\", \"day\": 3, \"humidity\": 72.0, \"temperature\": 47.0, \"black_ratio\": 0.8590549309981318}, {\"block\": \"N\", \"banana_number\": 5, \"treatment\": \"control\", \"day\": 4, \"humidity\": 36.0, \"temperature\": 73.0, \"black_ratio\": 0.8711436682950119}, {\"block\": \"N\", \"banana_number\": 7, \"treatment\": \"treatment\", \"day\": 4, \"humidity\": 47.0, \"temperature\": 72.0, \"black_ratio\": 0.7913532091284134}, {\"block\": \"N\", \"banana_number\": 3, \"treatment\": \"treatment\", \"day\": 4, \"humidity\": 40.0, \"temperature\": 72.0, \"black_ratio\": 0.7980596669750232}, {\"block\": \"N\", \"banana_number\": 1, \"treatment\": \"control\", \"day\": 4, \"humidity\": 37.0, \"temperature\": 72.0, \"black_ratio\": 0.8739183192620151}, {\"block\": \"N\", \"banana_number\": 6, \"treatment\": \"control\", \"day\": 4, \"humidity\": 73.0, \"temperature\": 47.0, \"black_ratio\": 0.8804000270402731}, {\"block\": \"N\", \"banana_number\": 4, \"treatment\": \"treatment\", \"day\": 4, \"humidity\": 72.0, \"temperature\": 36.0, \"black_ratio\": 0.8023674497574408}, {\"block\": \"N\", \"banana_number\": 2, \"treatment\": \"treatment\", \"day\": 4, \"humidity\": 72.0, \"temperature\": 40.0, \"black_ratio\": 0.8045455144336553}, {\"block\": \"N\", \"banana_number\": 8, \"treatment\": \"control\", \"day\": 4, \"humidity\": 72.0, \"temperature\": 47.0, \"black_ratio\": 0.8739451173102051}, {\"block\": \"N\", \"banana_number\": 5, \"treatment\": \"control\", \"day\": 5, \"humidity\": 36.0, \"temperature\": 73.0, \"black_ratio\": 0.8795358612804136}, {\"block\": \"N\", \"banana_number\": 7, \"treatment\": \"treatment\", \"day\": 5, \"humidity\": 47.0, \"temperature\": 72.0, \"black_ratio\": 0.7939238061852163}, {\"block\": \"N\", \"banana_number\": 3, \"treatment\": \"treatment\", \"day\": 5, \"humidity\": 40.0, \"temperature\": 72.0, \"black_ratio\": 0.7947856332926247}, {\"block\": \"N\", \"banana_number\": 1, \"treatment\": \"control\", \"day\": 5, \"humidity\": 37.0, \"temperature\": 72.0, \"black_ratio\": 0.8826635625661283}, {\"block\": \"N\", \"banana_number\": 6, \"treatment\": \"control\", \"day\": 5, \"humidity\": 73.0, \"temperature\": 47.0, \"black_ratio\": 0.8831004230366036}, {\"block\": \"N\", \"banana_number\": 4, \"treatment\": \"treatment\", \"day\": 5, \"humidity\": 72.0, \"temperature\": 36.0, \"black_ratio\": 0.7975380831567969}, {\"block\": \"N\", \"banana_number\": 2, \"treatment\": \"treatment\", \"day\": 5, \"humidity\": 72.0, \"temperature\": 40.0, \"black_ratio\": 0.8153011764625623}, {\"block\": \"N\", \"banana_number\": 8, \"treatment\": \"control\", \"day\": 5, \"humidity\": 72.0, \"temperature\": 47.0, \"black_ratio\": 0.8651562566935856}, {\"block\": \"N\", \"banana_number\": 7, \"treatment\": \"treatment\", \"day\": 6, \"humidity\": 47.0, \"temperature\": 72.0, \"black_ratio\": 0.8055048547916576}, {\"block\": \"N\", \"banana_number\": 5, \"treatment\": \"control\", \"day\": 6, \"humidity\": 36.0, \"temperature\": 73.0, \"black_ratio\": 0.8830012960784945}, {\"block\": \"N\", \"banana_number\": 1, \"treatment\": \"control\", \"day\": 6, \"humidity\": 37.0, \"temperature\": 72.0, \"black_ratio\": 0.8868414670404996}, {\"block\": \"N\", \"banana_number\": 3, \"treatment\": \"treatment\", \"day\": 6, \"humidity\": 40.0, \"temperature\": 72.0, \"black_ratio\": 0.7968266876752479}, {\"block\": \"N\", \"banana_number\": 4, \"treatment\": \"treatment\", \"day\": 6, \"humidity\": 72.0, \"temperature\": 36.0, \"black_ratio\": 0.8201352385305604}, {\"block\": \"N\", \"banana_number\": 6, \"treatment\": \"control\", \"day\": 6, \"humidity\": 73.0, \"temperature\": 47.0, \"black_ratio\": 0.8842926134501705}, {\"block\": \"N\", \"banana_number\": 2, \"treatment\": \"treatment\", \"day\": 6, \"humidity\": 72.0, \"temperature\": 40.0, \"black_ratio\": 0.8328677450047574}, {\"block\": \"N\", \"banana_number\": 8, \"treatment\": \"control\", \"day\": 6, \"humidity\": 72.0, \"temperature\": 47.0, \"black_ratio\": 0.8761490913512425}, {\"block\": \"N\", \"banana_number\": 7, \"treatment\": \"treatment\", \"day\": 7, \"humidity\": 47.0, \"temperature\": 72.0, \"black_ratio\": 0.8134165795678583}, {\"block\": \"N\", \"banana_number\": 5, \"treatment\": \"control\", \"day\": 7, \"humidity\": 36.0, \"temperature\": 73.0, \"black_ratio\": 0.9139719534963752}, {\"block\": \"N\", \"banana_number\": 1, \"treatment\": \"control\", \"day\": 7, \"humidity\": 37.0, \"temperature\": 72.0, \"black_ratio\": 0.8986559487843476}, {\"block\": \"N\", \"banana_number\": 3, \"treatment\": \"treatment\", \"day\": 7, \"humidity\": 40.0, \"temperature\": 72.0, \"black_ratio\": 0.8372469706961735}, {\"block\": \"N\", \"banana_number\": 4, \"treatment\": \"treatment\", \"day\": 7, \"humidity\": 72.0, \"temperature\": 36.0, \"black_ratio\": 0.8592454510265555}, {\"block\": \"N\", \"banana_number\": 6, \"treatment\": \"control\", \"day\": 7, \"humidity\": 73.0, \"temperature\": 47.0, \"black_ratio\": 0.9123512387783592}, {\"block\": \"N\", \"banana_number\": 2, \"treatment\": \"treatment\", \"day\": 7, \"humidity\": 72.0, \"temperature\": 40.0, \"black_ratio\": 0.8631228699654052}, {\"block\": \"N\", \"banana_number\": 8, \"treatment\": \"control\", \"day\": 7, \"humidity\": 72.0, \"temperature\": 47.0, \"black_ratio\": 0.8856426173891074}, {\"block\": \"N\", \"banana_number\": 8, \"treatment\": \"control\", \"day\": 8, \"humidity\": 72.0, \"temperature\": 47.0, \"black_ratio\": 0.9129710582113912}, {\"block\": \"N\", \"banana_number\": 2, \"treatment\": \"treatment\", \"day\": 8, \"humidity\": 72.0, \"temperature\": 40.0, \"black_ratio\": 0.8966785228945753}, {\"block\": \"N\", \"banana_number\": 4, \"treatment\": \"treatment\", \"day\": 8, \"humidity\": 72.0, \"temperature\": 36.0, \"black_ratio\": 0.8948640323392086}, {\"block\": \"N\", \"banana_number\": 6, \"treatment\": \"control\", \"day\": 8, \"humidity\": 73.0, \"temperature\": 47.0, \"black_ratio\": 0.9315696716910378}, {\"block\": \"N\", \"banana_number\": 1, \"treatment\": \"control\", \"day\": 8, \"humidity\": 37.0, \"temperature\": 72.0, \"black_ratio\": 0.9242063046442608}, {\"block\": \"N\", \"banana_number\": 3, \"treatment\": \"treatment\", \"day\": 8, \"humidity\": 40.0, \"temperature\": 72.0, \"black_ratio\": 0.8794996728997437}, {\"block\": \"N\", \"banana_number\": 7, \"treatment\": \"treatment\", \"day\": 8, \"humidity\": 47.0, \"temperature\": 72.0, \"black_ratio\": 0.8740525343954236}, {\"block\": \"N\", \"banana_number\": 5, \"treatment\": \"control\", \"day\": 8, \"humidity\": 36.0, \"temperature\": 73.0, \"black_ratio\": 0.9421634942528736}, {\"block\": \"N\", \"banana_number\": 8, \"treatment\": \"control\", \"day\": 9, \"humidity\": 72.0, \"temperature\": 47.0, \"black_ratio\": 0.937721339930732}, {\"block\": \"N\", \"banana_number\": 2, \"treatment\": \"treatment\", \"day\": 9, \"humidity\": 72.0, \"temperature\": 40.0, \"black_ratio\": 0.926620071072512}, {\"block\": \"N\", \"banana_number\": 4, \"treatment\": \"treatment\", \"day\": 9, \"humidity\": 72.0, \"temperature\": 36.0, \"black_ratio\": 0.9181381234685959}, {\"block\": \"N\", \"banana_number\": 6, \"treatment\": \"control\", \"day\": 9, \"humidity\": 73.0, \"temperature\": 47.0, \"black_ratio\": 0.9482860186526302}, {\"block\": \"N\", \"banana_number\": 1, \"treatment\": \"control\", \"day\": 9, \"humidity\": 37.0, \"temperature\": 72.0, \"black_ratio\": 0.9429521348633714}, {\"block\": \"N\", \"banana_number\": 3, \"treatment\": \"treatment\", \"day\": 9, \"humidity\": 40.0, \"temperature\": 72.0, \"black_ratio\": 0.9145917198067224}, {\"block\": \"N\", \"banana_number\": 7, \"treatment\": \"treatment\", \"day\": 9, \"humidity\": 47.0, \"temperature\": 72.0, \"black_ratio\": 0.8961562502353393}, {\"block\": \"N\", \"banana_number\": 5, \"treatment\": \"control\", \"day\": 9, \"humidity\": 36.0, \"temperature\": 73.0, \"black_ratio\": 0.9519470877450392}, {\"block\": \"N\", \"banana_number\": 6, \"treatment\": \"control\", \"day\": 10, \"humidity\": 73.0, \"temperature\": 47.0, \"black_ratio\": 0.9627141926637824}, {\"block\": \"N\", \"banana_number\": 8, \"treatment\": \"control\", \"day\": 10, \"humidity\": 72.0, \"temperature\": 47.0, \"black_ratio\": 0.950008817919882}, {\"block\": \"N\", \"banana_number\": 4, \"treatment\": \"treatment\", \"day\": 10, \"humidity\": 72.0, \"temperature\": 36.0, \"black_ratio\": 0.9347590361445784}, {\"block\": \"N\", \"banana_number\": 2, \"treatment\": \"treatment\", \"day\": 10, \"humidity\": 72.0, \"temperature\": 40.0, \"black_ratio\": 0.9340207182593672}, {\"block\": \"N\", \"banana_number\": 7, \"treatment\": \"treatment\", \"day\": 10, \"humidity\": 47.0, \"temperature\": 72.0, \"black_ratio\": 0.9060901510123468}, {\"block\": \"N\", \"banana_number\": 5, \"treatment\": \"control\", \"day\": 10, \"humidity\": 36.0, \"temperature\": 73.0, \"black_ratio\": 0.9628618364639088}, {\"block\": \"N\", \"banana_number\": 1, \"treatment\": \"control\", \"day\": 10, \"humidity\": 37.0, \"temperature\": 72.0, \"black_ratio\": 0.9532923555971728}, {\"block\": \"N\", \"banana_number\": 3, \"treatment\": \"treatment\", \"day\": 10, \"humidity\": 40.0, \"temperature\": 72.0, \"black_ratio\": 0.9356551210989869}, {\"block\": \"B\", \"banana_number\": 3, \"treatment\": \"treatment\", \"day\": 1, \"humidity\": 43.0, \"temperature\": 73.0, \"black_ratio\": 0.6299784429589738}, {\"block\": \"B\", \"banana_number\": 7, \"treatment\": \"treatment\", \"day\": 1, \"humidity\": 43.0, \"temperature\": 73.0, \"black_ratio\": 0.7374380452412447}, {\"block\": \"B\", \"banana_number\": 2, \"treatment\": \"treatment\", \"day\": 1, \"humidity\": 43.0, \"temperature\": 73.0, \"black_ratio\": 0.7799801488882591}, {\"block\": \"B\", \"banana_number\": 4, \"treatment\": \"treatment\", \"day\": 1, \"humidity\": 43.0, \"temperature\": 73.0, \"black_ratio\": 0.7640404541446209}, {\"block\": \"B\", \"banana_number\": 3, \"treatment\": \"treatment\", \"day\": 2, \"humidity\": 45.0, \"temperature\": 77.0, \"black_ratio\": 0.633599359882842}, {\"block\": \"B\", \"banana_number\": 7, \"treatment\": \"treatment\", \"day\": 2, \"humidity\": 45.0, \"temperature\": 77.0, \"black_ratio\": 0.7388307560678592}, {\"block\": \"B\", \"banana_number\": 2, \"treatment\": \"treatment\", \"day\": 2, \"humidity\": 45.0, \"temperature\": 77.0, \"black_ratio\": 0.7642085865982196}, {\"block\": \"B\", \"banana_number\": 4, \"treatment\": \"treatment\", \"day\": 2, \"humidity\": 45.0, \"temperature\": 77.0, \"black_ratio\": 0.7806951629031242}, {\"block\": \"B\", \"banana_number\": 3, \"treatment\": \"treatment\", \"day\": 3, \"humidity\": 50.0, \"temperature\": 79.0, \"black_ratio\": 0.6342629499716553}, {\"block\": \"B\", \"banana_number\": 7, \"treatment\": \"treatment\", \"day\": 3, \"humidity\": 50.0, \"temperature\": 79.0, \"black_ratio\": 0.748692257574326}, {\"block\": \"B\", \"banana_number\": 2, \"treatment\": \"treatment\", \"day\": 3, \"humidity\": 50.0, \"temperature\": 79.0, \"black_ratio\": 0.7797004749044679}, {\"block\": \"B\", \"banana_number\": 4, \"treatment\": \"treatment\", \"day\": 3, \"humidity\": 50.0, \"temperature\": 79.0, \"black_ratio\": 0.7833574787939868}, {\"block\": \"B\", \"banana_number\": 7, \"treatment\": \"treatment\", \"day\": 4, \"humidity\": 46.0, \"temperature\": 73.0, \"black_ratio\": 0.7683138070042832}, {\"block\": \"B\", \"banana_number\": 3, \"treatment\": \"treatment\", \"day\": 4, \"humidity\": 46.0, \"temperature\": 73.0, \"black_ratio\": 0.6246456095941463}, {\"block\": \"B\", \"banana_number\": 4, \"treatment\": \"treatment\", \"day\": 4, \"humidity\": 46.0, \"temperature\": 73.0, \"black_ratio\": 0.7833434540868817}, {\"block\": \"B\", \"banana_number\": 2, \"treatment\": \"treatment\", \"day\": 4, \"humidity\": 46.0, \"temperature\": 73.0, \"black_ratio\": 0.7802444038958176}, {\"block\": \"B\", \"banana_number\": 7, \"treatment\": \"treatment\", \"day\": 5, \"humidity\": 48.0, \"temperature\": 73.0, \"black_ratio\": 0.7684219038695725}, {\"block\": \"B\", \"banana_number\": 3, \"treatment\": \"treatment\", \"day\": 5, \"humidity\": 48.0, \"temperature\": 73.0, \"black_ratio\": 0.6798713794931552}, {\"block\": \"B\", \"banana_number\": 4, \"treatment\": \"treatment\", \"day\": 5, \"humidity\": 48.0, \"temperature\": 73.0, \"black_ratio\": 0.7923816806815319}, {\"block\": \"B\", \"banana_number\": 2, \"treatment\": \"treatment\", \"day\": 5, \"humidity\": 48.0, \"temperature\": 73.0, \"black_ratio\": 0.7991067327779877}, {\"block\": \"B\", \"banana_number\": 7, \"treatment\": \"treatment\", \"day\": 6, \"humidity\": 50.0, \"temperature\": 77.0, \"black_ratio\": 0.7715148848891409}, {\"block\": \"B\", \"banana_number\": 3, \"treatment\": \"treatment\", \"day\": 6, \"humidity\": 50.0, \"temperature\": 77.0, \"black_ratio\": 0.6695148304306291}, {\"block\": \"B\", \"banana_number\": 4, \"treatment\": \"treatment\", \"day\": 6, \"humidity\": 50.0, \"temperature\": 77.0, \"black_ratio\": 0.8044339890663056}, {\"block\": \"B\", \"banana_number\": 2, \"treatment\": \"treatment\", \"day\": 6, \"humidity\": 50.0, \"temperature\": 77.0, \"black_ratio\": 0.7858706078882169}, {\"block\": \"B\", \"banana_number\": 7, \"treatment\": \"treatment\", \"day\": 7, \"humidity\": 46.0, \"temperature\": 75.0, \"black_ratio\": 0.7756585707199547}, {\"block\": \"B\", \"banana_number\": 3, \"treatment\": \"treatment\", \"day\": 7, \"humidity\": 46.0, \"temperature\": 75.0, \"black_ratio\": 0.6881685110386747}, {\"block\": \"B\", \"banana_number\": 4, \"treatment\": \"treatment\", \"day\": 7, \"humidity\": 46.0, \"temperature\": 75.0, \"black_ratio\": 0.7803292902809272}, {\"block\": \"B\", \"banana_number\": 2, \"treatment\": \"treatment\", \"day\": 7, \"humidity\": 46.0, \"temperature\": 75.0, \"black_ratio\": 0.8057582986898463}, {\"block\": \"B\", \"banana_number\": 2, \"treatment\": \"treatment\", \"day\": 8, \"humidity\": 45.0, \"temperature\": 75.0, \"black_ratio\": 0.8073659730095742}, {\"block\": \"B\", \"banana_number\": 4, \"treatment\": \"treatment\", \"day\": 8, \"humidity\": 45.0, \"temperature\": 75.0, \"black_ratio\": 0.8130969112181909}, {\"block\": \"B\", \"banana_number\": 3, \"treatment\": \"treatment\", \"day\": 8, \"humidity\": 45.0, \"temperature\": 75.0, \"black_ratio\": 0.6972805518812464}, {\"block\": \"B\", \"banana_number\": 7, \"treatment\": \"treatment\", \"day\": 8, \"humidity\": 45.0, \"temperature\": 75.0, \"black_ratio\": 0.7795144629997061}, {\"block\": \"B\", \"banana_number\": 2, \"treatment\": \"treatment\", \"day\": 9, \"humidity\": 48.0, \"temperature\": 70.0, \"black_ratio\": 0.7731784119897959}, {\"block\": \"B\", \"banana_number\": 4, \"treatment\": \"treatment\", \"day\": 9, \"humidity\": 48.0, \"temperature\": 70.0, \"black_ratio\": 0.7708248857027379}, {\"block\": \"B\", \"banana_number\": 3, \"treatment\": \"treatment\", \"day\": 9, \"humidity\": 48.0, \"temperature\": 70.0, \"black_ratio\": 0.6769499755920887}, {\"block\": \"B\", \"banana_number\": 7, \"treatment\": \"treatment\", \"day\": 9, \"humidity\": 48.0, \"temperature\": 70.0, \"black_ratio\": 0.7883496183967414}, {\"block\": \"B\", \"banana_number\": 2, \"treatment\": \"treatment\", \"day\": 10, \"humidity\": 46.0, \"temperature\": 73.0, \"black_ratio\": 0.7896945960097002}, {\"block\": \"B\", \"banana_number\": 4, \"treatment\": \"treatment\", \"day\": 10, \"humidity\": 46.0, \"temperature\": 73.0, \"black_ratio\": 0.7884074395576132}, {\"block\": \"B\", \"banana_number\": 3, \"treatment\": \"treatment\", \"day\": 10, \"humidity\": 46.0, \"temperature\": 73.0, \"black_ratio\": 0.6671175897056354}, {\"block\": \"B\", \"banana_number\": 7, \"treatment\": \"treatment\", \"day\": 10, \"humidity\": 46.0, \"temperature\": 73.0, \"black_ratio\": 0.8215545477450239}, {\"block\": \"B\", \"banana_number\": 1, \"treatment\": \"control\", \"day\": 1, \"humidity\": 43.0, \"temperature\": 73.0, \"black_ratio\": 0.5086846563471067}, {\"block\": \"B\", \"banana_number\": 5, \"treatment\": \"control\", \"day\": 1, \"humidity\": 43.0, \"temperature\": 73.0, \"black_ratio\": 0.5086846563471067}, {\"block\": \"B\", \"banana_number\": 6, \"treatment\": \"control\", \"day\": 1, \"humidity\": 43.0, \"temperature\": 73.0, \"black_ratio\": 0.5086846563471067}, {\"block\": \"B\", \"banana_number\": 8, \"treatment\": \"control\", \"day\": 1, \"humidity\": 43.0, \"temperature\": 73.0, \"black_ratio\": 0.5086846563471067}, {\"block\": \"B\", \"banana_number\": 1, \"treatment\": \"control\", \"day\": 2, \"humidity\": 45.0, \"temperature\": 77.0, \"black_ratio\": 0.4925461552290669}, {\"block\": \"B\", \"banana_number\": 5, \"treatment\": \"control\", \"day\": 2, \"humidity\": 45.0, \"temperature\": 77.0, \"black_ratio\": 0.4925461552290669}, {\"block\": \"B\", \"banana_number\": 6, \"treatment\": \"control\", \"day\": 2, \"humidity\": 45.0, \"temperature\": 77.0, \"black_ratio\": 0.4925461552290669}, {\"block\": \"B\", \"banana_number\": 8, \"treatment\": \"control\", \"day\": 2, \"humidity\": 45.0, \"temperature\": 77.0, \"black_ratio\": 0.4925461552290669}, {\"block\": \"B\", \"banana_number\": 1, \"treatment\": \"control\", \"day\": 3, \"humidity\": 50.0, \"temperature\": 79.0, \"black_ratio\": 0.5514006335558915}, {\"block\": \"B\", \"banana_number\": 5, \"treatment\": \"control\", \"day\": 3, \"humidity\": 50.0, \"temperature\": 79.0, \"black_ratio\": 0.5514006335558915}, {\"block\": \"B\", \"banana_number\": 6, \"treatment\": \"control\", \"day\": 3, \"humidity\": 50.0, \"temperature\": 79.0, \"black_ratio\": 0.5514006335558915}, {\"block\": \"B\", \"banana_number\": 8, \"treatment\": \"control\", \"day\": 3, \"humidity\": 50.0, \"temperature\": 79.0, \"black_ratio\": 0.5514006335558915}, {\"block\": \"B\", \"banana_number\": 1, \"treatment\": \"control\", \"day\": 4, \"humidity\": 46.0, \"temperature\": 73.0, \"black_ratio\": 0.5409117109420929}, {\"block\": \"B\", \"banana_number\": 5, \"treatment\": \"control\", \"day\": 4, \"humidity\": 46.0, \"temperature\": 73.0, \"black_ratio\": 0.5409117109420929}, {\"block\": \"B\", \"banana_number\": 6, \"treatment\": \"control\", \"day\": 4, \"humidity\": 46.0, \"temperature\": 73.0, \"black_ratio\": 0.5409117109420929}, {\"block\": \"B\", \"banana_number\": 8, \"treatment\": \"control\", \"day\": 4, \"humidity\": 46.0, \"temperature\": 73.0, \"black_ratio\": 0.5409117109420929}, {\"block\": \"B\", \"banana_number\": 1, \"treatment\": \"control\", \"day\": 5, \"humidity\": 48.0, \"temperature\": 73.0, \"black_ratio\": 0.5733166578745695}, {\"block\": \"B\", \"banana_number\": 5, \"treatment\": \"control\", \"day\": 5, \"humidity\": 48.0, \"temperature\": 73.0, \"black_ratio\": 0.5733166578745695}, {\"block\": \"B\", \"banana_number\": 6, \"treatment\": \"control\", \"day\": 5, \"humidity\": 48.0, \"temperature\": 73.0, \"black_ratio\": 0.5733166578745695}, {\"block\": \"B\", \"banana_number\": 8, \"treatment\": \"control\", \"day\": 5, \"humidity\": 48.0, \"temperature\": 73.0, \"black_ratio\": 0.5733166578745695}, {\"block\": \"B\", \"banana_number\": 1, \"treatment\": \"control\", \"day\": 6, \"humidity\": 50.0, \"temperature\": 77.0, \"black_ratio\": 0.5767713287089528}, {\"block\": \"B\", \"banana_number\": 5, \"treatment\": \"control\", \"day\": 6, \"humidity\": 50.0, \"temperature\": 77.0, \"black_ratio\": 0.5767713287089528}, {\"block\": \"B\", \"banana_number\": 6, \"treatment\": \"control\", \"day\": 6, \"humidity\": 50.0, \"temperature\": 77.0, \"black_ratio\": 0.5767713287089528}, {\"block\": \"B\", \"banana_number\": 8, \"treatment\": \"control\", \"day\": 6, \"humidity\": 50.0, \"temperature\": 77.0, \"black_ratio\": 0.5767713287089528}, {\"block\": \"B\", \"banana_number\": 1, \"treatment\": \"control\", \"day\": 7, \"humidity\": 46.0, \"temperature\": 75.0, \"black_ratio\": 0.5920366072740825}, {\"block\": \"B\", \"banana_number\": 5, \"treatment\": \"control\", \"day\": 7, \"humidity\": 46.0, \"temperature\": 75.0, \"black_ratio\": 0.5920366072740825}, {\"block\": \"B\", \"banana_number\": 6, \"treatment\": \"control\", \"day\": 7, \"humidity\": 46.0, \"temperature\": 75.0, \"black_ratio\": 0.5920366072740825}, {\"block\": \"B\", \"banana_number\": 8, \"treatment\": \"control\", \"day\": 7, \"humidity\": 46.0, \"temperature\": 75.0, \"black_ratio\": 0.5920366072740825}, {\"block\": \"B\", \"banana_number\": 1, \"treatment\": \"control\", \"day\": 8, \"humidity\": 45.0, \"temperature\": 75.0, \"black_ratio\": 0.6128024415784833}, {\"block\": \"B\", \"banana_number\": 5, \"treatment\": \"control\", \"day\": 8, \"humidity\": 45.0, \"temperature\": 75.0, \"black_ratio\": 0.6128024415784833}, {\"block\": \"B\", \"banana_number\": 6, \"treatment\": \"control\", \"day\": 8, \"humidity\": 45.0, \"temperature\": 75.0, \"black_ratio\": 0.6128024415784833}, {\"block\": \"B\", \"banana_number\": 8, \"treatment\": \"control\", \"day\": 8, \"humidity\": 45.0, \"temperature\": 75.0, \"black_ratio\": 0.6128024415784833}, {\"block\": \"B\", \"banana_number\": 1, \"treatment\": \"control\", \"day\": 9, \"humidity\": 48.0, \"temperature\": 70.0, \"black_ratio\": 0.6346900884196272}, {\"block\": \"B\", \"banana_number\": 5, \"treatment\": \"control\", \"day\": 9, \"humidity\": 48.0, \"temperature\": 70.0, \"black_ratio\": 0.6346900884196272}, {\"block\": \"B\", \"banana_number\": 6, \"treatment\": \"control\", \"day\": 9, \"humidity\": 48.0, \"temperature\": 70.0, \"black_ratio\": 0.6346900884196272}, {\"block\": \"B\", \"banana_number\": 8, \"treatment\": \"control\", \"day\": 9, \"humidity\": 48.0, \"temperature\": 70.0, \"black_ratio\": 0.6346900884196272}, {\"block\": \"B\", \"banana_number\": 1, \"treatment\": \"control\", \"day\": 10, \"humidity\": 46.0, \"temperature\": 73.0, \"black_ratio\": 0.6537261268319056}, {\"block\": \"B\", \"banana_number\": 5, \"treatment\": \"control\", \"day\": 10, \"humidity\": 46.0, \"temperature\": 73.0, \"black_ratio\": 0.6537261268319056}, {\"block\": \"B\", \"banana_number\": 6, \"treatment\": \"control\", \"day\": 10, \"humidity\": 46.0, \"temperature\": 73.0, \"black_ratio\": 0.6537261268319056}, {\"block\": \"B\", \"banana_number\": 8, \"treatment\": \"control\", \"day\": 10, \"humidity\": 46.0, \"temperature\": 73.0, \"black_ratio\": 0.6537261268319056}]}}, {\"mode\": \"vega-lite\"});\n",
       "</script>"
      ],
      "text/plain": [
       "alt.HConcatChart(...)"
      ]
     },
     "execution_count": 14,
     "metadata": {},
     "output_type": "execute_result"
    }
   ],
   "source": [
    "brush = alt.selection(type='interval')\n",
    "\n",
    "points = alt.Chart(b_data).mark_circle().encode(\n",
    "    alt.X('day:Q', title='Date'),\n",
    "    alt.Y('black_ratio:Q',\n",
    "         title='Maximum Daily Temperature (C)',\n",
    "         scale=alt.Scale(domain=[0.2, 1])\n",
    "       ),\n",
    "#     size= 'subject:N', #should be the weight\n",
    "    color= alt.condition(brush, 'treatment:N', alt.value('lightgray')),\n",
    "#     size = 'subject:N'\n",
    "#     color= alt.condition(brush, 'treatment:N', alt.value('lightgray'),legend=alt.Legend(orient=\"right\"))\n",
    ").add_selection(\n",
    "    brush\n",
    ").transform_filter(\n",
    "    click\n",
    ")\n",
    "\n",
    "temp = alt.Chart(b_data).mark_circle().encode(\n",
    "    alt.X('humidity:Q', title='Date',\n",
    "          scale=alt.Scale(domain=[0, 90])),\n",
    "    alt.Y('temperature:Q',\n",
    "         title='Maximum Daily Temperature (C)',\n",
    "         scale=alt.Scale(domain=[0, 90])\n",
    "       ),\n",
    "#     size= 'subject:N', #should be the weight\n",
    "    color= alt.condition(brush, 'treatment:N', alt.value('lightgray'),legend=alt.Legend(orient=\"right\"))\n",
    ").transform_filter(\n",
    "    brush\n",
    ").add_selection(\n",
    "    click\n",
    ")\n",
    "\n",
    "\n",
    "points | temp"
   ]
  },
  {
   "cell_type": "code",
   "execution_count": null,
   "metadata": {
    "collapsed": true
   },
   "outputs": [],
   "source": [
    "np.random.seed(0)\n",
    "\n",
    "n_objects = 20\n",
    "n_times = 50\n",
    "\n",
    "# Create one (x, y) pair of metadata per object\n",
    "locations = pd.DataFrame({\n",
    "    'id': range(n_objects),\n",
    "    'x': np.random.randn(n_objects),\n",
    "    'y': np.random.randn(n_objects)\n",
    "})\n",
    "\n",
    "locations.head()"
   ]
  },
  {
   "cell_type": "code",
   "execution_count": null,
   "metadata": {
    "collapsed": true
   },
   "outputs": [],
   "source": [
    "# Create a 50-element time-series for each object\n",
    "timeseries = pd.DataFrame(np.random.randn(n_times, n_objects).cumsum(0),\n",
    "                          columns=locations['id'],\n",
    "                          index=pd.RangeIndex(0, n_times, name='time'))\n",
    "\n",
    "timeseries.head()"
   ]
  },
  {
   "cell_type": "code",
   "execution_count": null,
   "metadata": {
    "collapsed": true
   },
   "outputs": [],
   "source": [
    "# Melt the wide-form timeseries into a long-form view\n",
    "timeseries = timeseries.reset_index().melt('time')\n",
    "timeseries.head()"
   ]
  },
  {
   "cell_type": "code",
   "execution_count": null,
   "metadata": {
    "collapsed": true
   },
   "outputs": [],
   "source": [
    "# Merge the (x, y) metadata into the long-form view\n",
    "timeseries['id'] = timeseries['id'].astype(int)  # make merge not complain\n",
    "data = pd.merge(timeseries, locations, on='id')"
   ]
  },
  {
   "cell_type": "code",
   "execution_count": null,
   "metadata": {
    "collapsed": true
   },
   "outputs": [],
   "source": [
    "# Data is prepared, now make a chart\n",
    "\n",
    "#selector = alt.selection_single(empty='all', fields=['id'])\n",
    "selector = alt.selection_single(fields=['id'])\n",
    "\n",
    "base = alt.Chart(data).properties(\n",
    "    width=250,\n",
    "    height=250\n",
    ").add_selection(selector)\n",
    "\n",
    "\n",
    "\n",
    "points = base.mark_point(filled=True, size=200).encode(\n",
    "    x='mean(x)',\n",
    "    y='mean(y)',\n",
    "    color=alt.condition(selector, 'id:O', alt.value('lightgray'), legend=None),\n",
    ")\n",
    "\n",
    "timeseries = base.mark_line().encode(\n",
    "    x='time',\n",
    "    y=alt.Y('value', scale=alt.Scale(domain=(-15, 15))),\n",
    "    color=alt.Color('id:O', legend=None)\n",
    ").transform_filter(\n",
    "    selector\n",
    ")\n",
    "\n",
    "points | timeseries"
   ]
  }
 ],
 "metadata": {
  "kernelspec": {
   "display_name": "Python 3",
   "language": "python",
   "name": "python3"
  },
  "language_info": {
   "codemirror_mode": {
    "name": "ipython",
    "version": 3
   },
   "file_extension": ".py",
   "mimetype": "text/x-python",
   "name": "python",
   "nbconvert_exporter": "python",
   "pygments_lexer": "ipython3",
   "version": "3.7.6"
  }
 },
 "nbformat": 4,
 "nbformat_minor": 4
}
